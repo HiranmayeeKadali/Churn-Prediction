{
  "cells": [
    {
      "cell_type": "code",
      "execution_count": null,
      "metadata": {
        "colab": {
          "base_uri": "https://localhost:8080/"
        },
        "id": "QhrLFctJgzxP",
        "outputId": "f5670813-022e-4c16-9f06-dac1866462ae"
      },
      "outputs": [
        {
          "output_type": "stream",
          "name": "stdout",
          "text": [
            "Mounted at /content/drive\n"
          ]
        }
      ],
      "source": [
        "from google.colab import drive\n",
        "drive.mount('/content/drive')"
      ]
    },
    {
      "cell_type": "code",
      "execution_count": null,
      "metadata": {
        "id": "fTj1TrvgLuxo"
      },
      "outputs": [],
      "source": [
        "import pandas as pd\n",
        "import numpy as np\n",
        "import matplotlib.pyplot as plt\n",
        "import seaborn as sn"
      ]
    },
    {
      "cell_type": "code",
      "execution_count": null,
      "metadata": {
        "id": "7frQ5B33Ly0i"
      },
      "outputs": [],
      "source": [
        "train = pd.read_csv('/content/drive/My Drive/raw_data/train_v2.csv')\n",
        "sample_submission = pd.read_csv('/content/drive/My Drive/raw_data/sample_submission_v2.csv')\n",
        "transactions = pd.read_csv('/content/drive/My Drive/raw_data/transactions_v2.csv')\n",
        "user_logs = pd.read_csv('/content/drive/My Drive/raw_data/user_logs_v2.csv')\n",
        "members = pd.read_csv('/content/drive/My Drive/raw_data/members_v3.csv')\n"
      ]
    },
    {
      "cell_type": "markdown",
      "metadata": {
        "id": "bTM7puODMSh1"
      },
      "source": [
        "set the options so the output format can be displayed correctly"
      ]
    },
    {
      "cell_type": "code",
      "execution_count": null,
      "metadata": {
        "id": "jAgO6bhcMTOq"
      },
      "outputs": [],
      "source": [
        "pd.set_option('expand_frame_repr', True)\n",
        "pd.set_option('display.max_rows', 30000000)\n",
        "pd.set_option('display.max_columns', 100)"
      ]
    },
    {
      "cell_type": "markdown",
      "metadata": {
        "id": "dpEPNsUxMYTq"
      },
      "source": [
        "check the number of duplicate accounts in each table"
      ]
    },
    {
      "cell_type": "code",
      "execution_count": null,
      "metadata": {
        "colab": {
          "base_uri": "https://localhost:8080/"
        },
        "id": "6715YtGJMZL9",
        "outputId": "fd03f16d-a6dd-488d-e3e6-b630d2fc414a"
      },
      "outputs": [
        {
          "output_type": "execute_result",
          "data": {
            "text/plain": [
              "0"
            ]
          },
          "metadata": {},
          "execution_count": 5
        }
      ],
      "source": [
        "train.duplicated('msno').sum()\n",
        "sample_submission.duplicated('msno').sum()\n",
        "transactions.duplicated('msno').sum()\n",
        "user_logs.duplicated('msno').sum()\n",
        "members.duplicated('msno').sum()"
      ]
    },
    {
      "cell_type": "markdown",
      "metadata": {
        "id": "pMkEKn5_McwU"
      },
      "source": [
        "returns the max value of numerical variables and membership_expire_date\n",
        "\n",
        "returns the min value of transaction date\n",
        "\n",
        "returns the mode of ordinal variable and dummy variables, if multiple values share the same frequency, keep the first one\n"
      ]
    },
    {
      "cell_type": "code",
      "execution_count": null,
      "metadata": {
        "id": "OQlPqKwXMmDN"
      },
      "outputs": [],
      "source": [
        "transactions_v2 = transactions.groupby('msno', as_index = False).agg(\n",
        "                                            {'payment_method_id': lambda x:x.value_counts().index[0], \n",
        "                                             'payment_plan_days': 'max', \n",
        "                                             'plan_list_price': 'max',\n",
        "                                             'actual_amount_paid': 'max', \n",
        "                                             'is_auto_renew': lambda x:x.value_counts().index[0], \n",
        "                                             'transaction_date': 'min', \n",
        "                                             'membership_expire_date': 'max',\n",
        "                                             'is_cancel': lambda x:x.value_counts().index[0]})\n"
      ]
    },
    {
      "cell_type": "markdown",
      "metadata": {
        "id": "e7QMBIa2NAYl"
      },
      "source": [
        "returns the max value of date and number of unique songs\n",
        "\n",
        "returns the sum of other variables"
      ]
    },
    {
      "cell_type": "code",
      "execution_count": null,
      "metadata": {
        "id": "3oeXJRZYNC9E"
      },
      "outputs": [],
      "source": [
        "user_logs_v2 = user_logs.groupby('msno', as_index = False).agg(\n",
        "                                            {'date': 'max', \n",
        "                                             'num_25': 'sum', \n",
        "                                             'num_50': 'sum', \n",
        "                                             'num_75': 'sum',\n",
        "                                             'num_985': 'sum', \n",
        "                                             'num_100': 'sum', \n",
        "                                             'num_unq': 'max', \n",
        "                                             'total_secs': 'sum'})"
      ]
    },
    {
      "cell_type": "markdown",
      "metadata": {
        "id": "A2vRTi5nNKVv"
      },
      "source": [
        "calculate the percentage of number of songs played within certain period"
      ]
    },
    {
      "cell_type": "code",
      "execution_count": null,
      "metadata": {
        "id": "0Wout6XBNLRQ"
      },
      "outputs": [],
      "source": [
        "user_logs_v2['percent_25'] = user_logs_v2['num_25']/(user_logs_v2['num_25']+user_logs_v2['num_50']+user_logs_v2['num_75']+user_logs_v2['num_985']+user_logs_v2['num_100'])\n",
        "user_logs_v2['percent_50'] = user_logs_v2['num_50']/(user_logs_v2['num_25']+user_logs_v2['num_50']+user_logs_v2['num_75']+user_logs_v2['num_985']+user_logs_v2['num_100'])\n",
        "user_logs_v2['percent_100'] = (user_logs_v2['num_985']+user_logs_v2['num_100'])/(user_logs_v2['num_25']+user_logs_v2['num_50']+user_logs_v2['num_75']+user_logs_v2['num_985']+user_logs_v2['num_100'])\n"
      ]
    },
    {
      "cell_type": "markdown",
      "metadata": {
        "id": "93TgjvSZNRsM"
      },
      "source": [
        "drop useless variables"
      ]
    },
    {
      "cell_type": "code",
      "execution_count": null,
      "metadata": {
        "id": "CAHJJri6NScU"
      },
      "outputs": [],
      "source": [
        "user_logs_v3 = user_logs_v2.drop(columns = ['num_25', 'num_50', 'num_75', 'num_985', 'num_100'])"
      ]
    },
    {
      "cell_type": "markdown",
      "metadata": {
        "id": "VsbQM2soNW3K"
      },
      "source": [
        "merge between different tables for modelling purpose"
      ]
    },
    {
      "cell_type": "code",
      "execution_count": null,
      "metadata": {
        "colab": {
          "base_uri": "https://localhost:8080/"
        },
        "id": "6FFj-uNGNZ1p",
        "outputId": "2f47a8f4-3175-477d-c0ba-c6346fc0d8fa"
      },
      "outputs": [
        {
          "output_type": "execute_result",
          "data": {
            "text/plain": [
              "msno                       object\n",
              "is_churn                    int64\n",
              "city                      float64\n",
              "bd                        float64\n",
              "gender                     object\n",
              "registered_via            float64\n",
              "registration_init_time    float64\n",
              "payment_method_id         float64\n",
              "payment_plan_days         float64\n",
              "plan_list_price           float64\n",
              "actual_amount_paid        float64\n",
              "is_auto_renew             float64\n",
              "transaction_date          float64\n",
              "membership_expire_date    float64\n",
              "is_cancel                 float64\n",
              "date                      float64\n",
              "num_unq                   float64\n",
              "total_secs                float64\n",
              "percent_25                float64\n",
              "percent_50                float64\n",
              "percent_100               float64\n",
              "dtype: object"
            ]
          },
          "metadata": {},
          "execution_count": 10
        }
      ],
      "source": [
        "dataset_train = train.merge(members, on = 'msno', how = 'left').merge(transactions_v2, on = 'msno', how = 'left').merge(user_logs_v3, on = 'msno', how = 'left')\n",
        "dataset_train.dtypes"
      ]
    },
    {
      "cell_type": "markdown",
      "metadata": {
        "id": "-qe68J35NdKE"
      },
      "source": [
        "date in csv will be recognized as float in python\n",
        "this value needs to be converted back to date"
      ]
    },
    {
      "cell_type": "code",
      "execution_count": null,
      "metadata": {
        "id": "0sniVHQUNix_"
      },
      "outputs": [],
      "source": [
        "dataset_train['registration_init_time'] = pd.to_datetime(dataset_train['registration_init_time'], format = '%Y%m%d')\n",
        "dataset_train['transaction_date'] = pd.to_datetime(dataset_train['transaction_date'], format = '%Y%m%d')\n",
        "dataset_train['membership_expire_date'] = pd.to_datetime(dataset_train['membership_expire_date'], format = '%Y%m%d')\n",
        "dataset_train['date'] = pd.to_datetime(dataset_train['date'], format = '%Y%m%d')\n"
      ]
    },
    {
      "cell_type": "markdown",
      "metadata": {
        "id": "1pVvM8B9Nnqp"
      },
      "source": [
        "check the maximum of datetime value"
      ]
    },
    {
      "cell_type": "code",
      "execution_count": null,
      "metadata": {
        "colab": {
          "base_uri": "https://localhost:8080/"
        },
        "id": "QM6Zr9MdNoT8",
        "outputId": "b525cca9-3cf0-4156-d4aa-5b7cc1a59d9f"
      },
      "outputs": [
        {
          "output_type": "execute_result",
          "data": {
            "text/plain": [
              "registration_init_time   2017-04-24\n",
              "transaction_date         2017-03-31\n",
              "membership_expire_date   2023-08-17\n",
              "date                     2017-03-31\n",
              "dtype: datetime64[ns]"
            ]
          },
          "metadata": {},
          "execution_count": 12
        }
      ],
      "source": [
        "dataset_train.select_dtypes(include = ['datetime64[ns]']).max()"
      ]
    },
    {
      "cell_type": "markdown",
      "metadata": {
        "id": "65LXDxp1NrkJ"
      },
      "source": [
        "create new day columns for modelling purpose"
      ]
    },
    {
      "cell_type": "code",
      "execution_count": null,
      "metadata": {
        "id": "BSh6T9ndNvJ_"
      },
      "outputs": [],
      "source": [
        "dataset_train['registration_day'] = (dataset_train['membership_expire_date'].max() - dataset_train['registration_init_time']).astype('timedelta64[D]')\n",
        "dataset_train['transaction_day'] = (dataset_train['membership_expire_date'].max() - dataset_train['transaction_date']).astype('timedelta64[D]')\n",
        "dataset_train['membership_expire_day'] = (dataset_train['membership_expire_date'].max() - dataset_train['membership_expire_date']).astype('timedelta64[D]')\n",
        "dataset_train['last_play_day'] = (dataset_train['membership_expire_date'].max() - dataset_train['date']).astype('timedelta64[D]')"
      ]
    },
    {
      "cell_type": "markdown",
      "metadata": {
        "id": "z_Xl8BNnNzuD"
      },
      "source": [
        "check the distribution of age "
      ]
    },
    {
      "cell_type": "code",
      "execution_count": null,
      "metadata": {
        "colab": {
          "base_uri": "https://localhost:8080/"
        },
        "id": "8vDDhhcIN0kM",
        "outputId": "ef38fa65-3368-4609-9bd7-857cfcec709f"
      },
      "outputs": [
        {
          "output_type": "execute_result",
          "data": {
            "text/plain": [
              " 0.0       473729\n",
              " 27.0       22786\n",
              " 26.0       21829\n",
              " 25.0       20651\n",
              " 24.0       20296\n",
              " 28.0       20244\n",
              " 29.0       19533\n",
              " 23.0       19238\n",
              " 22.0       18035\n",
              " 30.0       17175\n",
              " 21.0       15633\n",
              " 31.0       15123\n",
              " 32.0       14406\n",
              " 20.0       13678\n",
              " 33.0       13229\n",
              " 34.0       12154\n",
              " 35.0       10959\n",
              " 36.0        9985\n",
              " 19.0        9861\n",
              " 37.0        8858\n",
              " 18.0        8207\n",
              " 38.0        7679\n",
              " 39.0        6651\n",
              " 17.0        5913\n",
              " 40.0        5663\n",
              " 41.0        5221\n",
              " 42.0        4305\n",
              " 43.0        3723\n",
              " 44.0        3266\n",
              " 46.0        3015\n",
              " 45.0        3010\n",
              " 47.0        2889\n",
              " 16.0        2544\n",
              " 48.0        2539\n",
              " 49.0        2320\n",
              " 50.0        2027\n",
              " 51.0        1970\n",
              " 52.0        1748\n",
              " 53.0        1445\n",
              " 54.0        1159\n",
              " 55.0        1021\n",
              " 15.0         848\n",
              " 56.0         844\n",
              " 57.0         736\n",
              " 58.0         541\n",
              " 59.0         510\n",
              " 60.0         455\n",
              " 61.0         390\n",
              " 62.0         309\n",
              " 14.0         282\n",
              " 63.0         258\n",
              " 64.0         193\n",
              " 65.0         171\n",
              " 66.0         147\n",
              " 67.0         140\n",
              " 68.0          90\n",
              " 106.0         81\n",
              " 69.0          67\n",
              " 117.0         65\n",
              " 13.0          63\n",
              " 70.0          57\n",
              " 112.0         52\n",
              " 72.0          42\n",
              " 71.0          40\n",
              " 73.0          37\n",
              " 74.0          31\n",
              " 77.0          30\n",
              " 12.0          23\n",
              " 75.0          23\n",
              " 76.0          23\n",
              " 102.0         23\n",
              " 84.0          22\n",
              " 1.0           21\n",
              " 105.0         21\n",
              " 95.0          19\n",
              " 91.0          18\n",
              " 5.0           16\n",
              " 89.0          16\n",
              " 103.0         15\n",
              " 6.0           15\n",
              " 101.0         14\n",
              " 104.0         14\n",
              " 92.0          14\n",
              " 107.0         14\n",
              " 79.0          13\n",
              " 7.0           13\n",
              " 81.0          13\n",
              " 78.0          12\n",
              " 97.0          11\n",
              " 100.0         11\n",
              " 10.0          11\n",
              " 94.0          10\n",
              " 90.0          10\n",
              " 80.0          10\n",
              " 83.0          10\n",
              " 4.0           10\n",
              " 3.0            9\n",
              " 93.0           9\n",
              " 87.0           9\n",
              " 11.0           9\n",
              " 2.0            9\n",
              " 98.0           9\n",
              " 1032.0         8\n",
              " 96.0           8\n",
              "-51.0           8\n",
              " 86.0           8\n",
              " 111.0          7\n",
              "-49.0           7\n",
              "-48.0           7\n",
              " 82.0           7\n",
              " 88.0           7\n",
              " 9.0            6\n",
              " 85.0           6\n",
              "-50.0           6\n",
              " 1033.0         6\n",
              " 109.0          6\n",
              "-42.0           5\n",
              " 1031.0         4\n",
              " 8.0            4\n",
              " 116.0          4\n",
              " 1030.0         4\n",
              "-44.0           3\n",
              " 128.0          3\n",
              " 122.0          3\n",
              "-47.0           3\n",
              "-43.0           3\n",
              " 1043.0         3\n",
              " 119.0          3\n",
              " 1037.0         3\n",
              " 1029.0         3\n",
              "-45.0           3\n",
              " 110.0          3\n",
              " 941.0          2\n",
              "-39.0           2\n",
              " 950.0          2\n",
              " 1041.0         2\n",
              " 139.0          2\n",
              " 931.0          2\n",
              "-40.0           2\n",
              " 1038.0         2\n",
              " 1820.0         2\n",
              "-34.0           2\n",
              " 153.0          2\n",
              "-41.0           2\n",
              " 948.0          2\n",
              " 99.0           2\n",
              " 1034.0         2\n",
              "-46.0           2\n",
              " 220.0          2\n",
              " 113.0          2\n",
              " 1028.0         2\n",
              " 1052.0         2\n",
              " 1035.0         2\n",
              " 1036.0         2\n",
              " 319.0          1\n",
              "-36.0           1\n",
              " 942.0          1\n",
              "-9.0            1\n",
              " 934.0          1\n",
              " 945.0          1\n",
              " 930.0          1\n",
              " 328.0          1\n",
              " 837.0          1\n",
              " 1421.0         1\n",
              " 1040.0         1\n",
              " 1970.0         1\n",
              " 320.0          1\n",
              " 1213.0         1\n",
              " 137.0          1\n",
              " 823.0          1\n",
              " 160.0          1\n",
              "-38.0           1\n",
              " 121.0          1\n",
              " 906.0          1\n",
              " 1008.0         1\n",
              " 123.0          1\n",
              " 778.0          1\n",
              "-5.0            1\n",
              "-35.0           1\n",
              " 824.0          1\n",
              "-30.0           1\n",
              " 933.0          1\n",
              " 826.0          1\n",
              " 120.0          1\n",
              " 132.0          1\n",
              " 939.0          1\n",
              " 131.0          1\n",
              " 115.0          1\n",
              " 786.0          1\n",
              " 1009.0         1\n",
              " 1011.0         1\n",
              " 138.0          1\n",
              " 1017.0         1\n",
              " 821.0          1\n",
              " 126.0          1\n",
              " 323.0          1\n",
              " 197.0          1\n",
              " 1042.0         1\n",
              " 332.0          1\n",
              " 144.0          1\n",
              " 1051.0         1\n",
              "-7.0            1\n",
              " 129.0          1\n",
              "-178.0          1\n",
              " 944.0          1\n",
              " 1111.0         1\n",
              "-19.0           1\n",
              " 2016.0         1\n",
              "-32.0           1\n",
              " 964.0          1\n",
              " 1022.0         1\n",
              "-37.0           1\n",
              " 743.0          1\n",
              " 1048.0         1\n",
              " 1053.0         1\n",
              "-2828.0         1\n",
              "-3152.0         1\n",
              " 936.0          1\n",
              "-23.0           1\n",
              " 130.0          1\n",
              " 1049.0         1\n",
              " 133.0          1\n",
              " 321.0          1\n",
              " 820.0          1\n",
              " 947.0          1\n",
              " 340.0          1\n",
              " 961.0          1\n",
              " 1026.0         1\n",
              " 148.0          1\n",
              " 946.0          1\n",
              " 951.0          1\n",
              "Name: bd, dtype: int64"
            ]
          },
          "metadata": {},
          "execution_count": 14
        }
      ],
      "source": [
        "dataset_train['bd'].value_counts()"
      ]
    },
    {
      "cell_type": "markdown",
      "metadata": {
        "id": "hXiBp9yRN_YB"
      },
      "source": [
        "remove gender and age since missing value or incorrect value is over 50%"
      ]
    },
    {
      "cell_type": "code",
      "execution_count": null,
      "metadata": {
        "colab": {
          "base_uri": "https://localhost:8080/"
        },
        "id": "5W4_RbmeODbC",
        "outputId": "943dd1d5-a84d-4ff4-d371-8a0f0245e06c"
      },
      "outputs": [
        {
          "output_type": "execute_result",
          "data": {
            "text/plain": [
              "is_churn                   int64\n",
              "city                     float64\n",
              "registered_via           float64\n",
              "payment_method_id        float64\n",
              "payment_plan_days        float64\n",
              "plan_list_price          float64\n",
              "actual_amount_paid       float64\n",
              "is_auto_renew            float64\n",
              "is_cancel                float64\n",
              "num_unq                  float64\n",
              "total_secs               float64\n",
              "percent_25               float64\n",
              "percent_50               float64\n",
              "percent_100              float64\n",
              "registration_day         float64\n",
              "transaction_day          float64\n",
              "membership_expire_day    float64\n",
              "last_play_day            float64\n",
              "dtype: object"
            ]
          },
          "metadata": {},
          "execution_count": 15
        }
      ],
      "source": [
        "dataset_train_v2 = dataset_train.drop(columns = ['msno', 'gender', 'bd', 'registration_init_time', 'transaction_date', 'membership_expire_date', 'date'])\n",
        "dataset_train_v2.dtypes"
      ]
    },
    {
      "cell_type": "markdown",
      "metadata": {
        "id": "UgxlSMnQOIhf"
      },
      "source": [
        "check the number of missing values in each column"
      ]
    },
    {
      "cell_type": "code",
      "execution_count": null,
      "metadata": {
        "colab": {
          "base_uri": "https://localhost:8080/"
        },
        "id": "PKUM8cjDOLbg",
        "outputId": "b6f13191-91af-4662-c7b5-1cb0554b6e98"
      },
      "outputs": [
        {
          "output_type": "execute_result",
          "data": {
            "text/plain": [
              "is_churn                      0\n",
              "city                     109993\n",
              "registered_via           109993\n",
              "payment_method_id         37382\n",
              "payment_plan_days         37382\n",
              "plan_list_price           37382\n",
              "actual_amount_paid        37382\n",
              "is_auto_renew             37382\n",
              "is_cancel                 37382\n",
              "num_unq                  216409\n",
              "total_secs               216409\n",
              "percent_25               216409\n",
              "percent_50               216409\n",
              "percent_100              216409\n",
              "registration_day         109993\n",
              "transaction_day           37382\n",
              "membership_expire_day     37382\n",
              "last_play_day            216409\n",
              "dtype: int64"
            ]
          },
          "metadata": {},
          "execution_count": 16
        }
      ],
      "source": [
        "dataset_train_v2.isna().sum()"
      ]
    },
    {
      "cell_type": "markdown",
      "metadata": {
        "id": "d7z-UEO5POyc"
      },
      "source": [
        "Handle missing value of part of numeric columns by using mode"
      ]
    },
    {
      "cell_type": "code",
      "execution_count": null,
      "metadata": {
        "id": "u6gWG69LPp0u"
      },
      "outputs": [],
      "source": [
        "def replacemode(i):\n",
        "    dataset_train_v2[i] = dataset_train_v2[i].fillna(dataset_train_v2[i].value_counts().index[0])\n",
        "    return \n",
        "\n",
        "replacemode('city')\n",
        "replacemode('registered_via')\n",
        "replacemode('payment_method_id')\n",
        "replacemode('payment_plan_days')\n",
        "replacemode('is_auto_renew')\n",
        "replacemode('is_cancel')"
      ]
    },
    {
      "cell_type": "markdown",
      "metadata": {
        "id": "slpcZy6zPuYb"
      },
      "source": [
        "Handle missing value of part of numeric columns by using mean"
      ]
    },
    {
      "cell_type": "code",
      "execution_count": null,
      "metadata": {
        "id": "z50p656VPxq9"
      },
      "outputs": [],
      "source": [
        "from sklearn.impute import SimpleImputer\n",
        "mean_imputer = SimpleImputer(missing_values = np.nan, strategy = 'mean')\n",
        "def replacemean(i):\n",
        "    dataset_train_v2[i] = mean_imputer.fit_transform(dataset_train_v2[[i]])\n",
        "    return \n",
        "\n",
        "replacemean('plan_list_price')\n",
        "replacemean('actual_amount_paid')\n",
        "replacemean('num_unq')\n",
        "replacemean('total_secs')\n",
        "replacemean('percent_25')\n",
        "replacemean('percent_50')\n",
        "replacemean('percent_100')\n",
        "replacemean('registration_day')\n",
        "replacemean('transaction_day')\n",
        "replacemean('membership_expire_day')\n",
        "replacemean('last_play_day')"
      ]
    },
    {
      "cell_type": "markdown",
      "metadata": {
        "id": "JyVs_aMRQKWy"
      },
      "source": [
        "Handle outliers by using capping"
      ]
    },
    {
      "cell_type": "code",
      "execution_count": null,
      "metadata": {
        "colab": {
          "base_uri": "https://localhost:8080/",
          "height": 538
        },
        "id": "YJ6UznTAQMar",
        "outputId": "36c65a7e-371e-4a7a-c3a0-a95d0a7120e5"
      },
      "outputs": [
        {
          "output_type": "stream",
          "name": "stderr",
          "text": [
            "/usr/local/lib/python3.7/dist-packages/ipykernel_launcher.py:5: SettingWithCopyWarning: \n",
            "A value is trying to be set on a copy of a slice from a DataFrame\n",
            "\n",
            "See the caveats in the documentation: https://pandas.pydata.org/pandas-docs/stable/user_guide/indexing.html#returning-a-view-versus-a-copy\n",
            "  \"\"\"\n",
            "/usr/local/lib/python3.7/dist-packages/ipykernel_launcher.py:6: SettingWithCopyWarning: \n",
            "A value is trying to be set on a copy of a slice from a DataFrame\n",
            "\n",
            "See the caveats in the documentation: https://pandas.pydata.org/pandas-docs/stable/user_guide/indexing.html#returning-a-view-versus-a-copy\n",
            "  \n"
          ]
        },
        {
          "output_type": "execute_result",
          "data": {
            "text/plain": [
              "            is_churn           city  registered_via  payment_method_id  \\\n",
              "count  970960.000000  970960.000000   970960.000000      970960.000000   \n",
              "mean        0.089942       5.377985        6.904894          38.980580   \n",
              "std         0.286099       6.264004        1.825053           3.735683   \n",
              "min         0.000000       1.000000        3.000000           3.000000   \n",
              "25%         0.000000       1.000000        7.000000          38.000000   \n",
              "50%         0.000000       1.000000        7.000000          41.000000   \n",
              "75%         0.000000      11.000000        7.000000          41.000000   \n",
              "max         1.000000      22.000000       13.000000          41.000000   \n",
              "\n",
              "       payment_plan_days  plan_list_price  actual_amount_paid  is_auto_renew  \\\n",
              "count      970960.000000    970960.000000       970960.000000  970960.000000   \n",
              "mean           33.870175       137.312482          137.144432       0.915621   \n",
              "std            33.145373        59.457891           59.592053       0.277956   \n",
              "min             0.000000         0.000000            0.000000       0.000000   \n",
              "25%            30.000000        99.000000           99.000000       1.000000   \n",
              "50%            30.000000       149.000000          149.000000       1.000000   \n",
              "75%            30.000000       149.000000          149.000000       1.000000   \n",
              "max           450.000000       564.946789          564.957389       1.000000   \n",
              "\n",
              "           is_cancel        num_unq     total_secs     percent_25  \\\n",
              "count  970960.000000  970960.000000  970960.000000  970960.000000   \n",
              "mean        0.018600      64.235962  133525.936898       0.183335   \n",
              "std         0.135108      39.653047  128387.816988       0.124044   \n",
              "min         0.000000       1.000000       0.035000       0.000000   \n",
              "25%         0.000000      37.000000   43109.197250       0.095390   \n",
              "50%         0.000000      65.123435  126896.534500       0.185996   \n",
              "75%         0.000000      76.000000  140794.615500       0.219114   \n",
              "max         1.000000     198.663728  630426.734475       0.591411   \n",
              "\n",
              "          percent_50    percent_100  registration_day  transaction_day  \\\n",
              "count  970960.000000  970960.000000     970960.000000    970960.000000   \n",
              "mean        0.046258       0.738445       3622.760136      2348.038834   \n",
              "std         0.037513       0.162003       1027.431145        18.778962   \n",
              "min         0.000000       0.226005       2306.000000      2330.000000   \n",
              "25%         0.021978       0.683026       2810.000000      2338.000000   \n",
              "50%         0.046786       0.736224       3551.000000      2347.000000   \n",
              "75%         0.050445       0.852273       4062.000000      2355.000000   \n",
              "max         0.202598       1.000000       6725.205993      2507.613742   \n",
              "\n",
              "       membership_expire_day  last_play_day  \n",
              "count          970960.000000  970960.000000  \n",
              "mean             2307.555337    2332.506040  \n",
              "std                24.720329       4.005140  \n",
              "min              2158.670752    2330.000000  \n",
              "25%              2303.000000    2330.000000  \n",
              "50%              2311.000000    2331.000000  \n",
              "75%              2320.000000    2332.705707  \n",
              "max              2361.000000    2347.258221  "
            ],
            "text/html": [
              "\n",
              "  <div id=\"df-c75acd26-5d94-49d2-b3b9-6fbed390eea7\">\n",
              "    <div class=\"colab-df-container\">\n",
              "      <div>\n",
              "<style scoped>\n",
              "    .dataframe tbody tr th:only-of-type {\n",
              "        vertical-align: middle;\n",
              "    }\n",
              "\n",
              "    .dataframe tbody tr th {\n",
              "        vertical-align: top;\n",
              "    }\n",
              "\n",
              "    .dataframe thead th {\n",
              "        text-align: right;\n",
              "    }\n",
              "</style>\n",
              "<table border=\"1\" class=\"dataframe\">\n",
              "  <thead>\n",
              "    <tr style=\"text-align: right;\">\n",
              "      <th></th>\n",
              "      <th>is_churn</th>\n",
              "      <th>city</th>\n",
              "      <th>registered_via</th>\n",
              "      <th>payment_method_id</th>\n",
              "      <th>payment_plan_days</th>\n",
              "      <th>plan_list_price</th>\n",
              "      <th>actual_amount_paid</th>\n",
              "      <th>is_auto_renew</th>\n",
              "      <th>is_cancel</th>\n",
              "      <th>num_unq</th>\n",
              "      <th>total_secs</th>\n",
              "      <th>percent_25</th>\n",
              "      <th>percent_50</th>\n",
              "      <th>percent_100</th>\n",
              "      <th>registration_day</th>\n",
              "      <th>transaction_day</th>\n",
              "      <th>membership_expire_day</th>\n",
              "      <th>last_play_day</th>\n",
              "    </tr>\n",
              "  </thead>\n",
              "  <tbody>\n",
              "    <tr>\n",
              "      <th>count</th>\n",
              "      <td>970960.000000</td>\n",
              "      <td>970960.000000</td>\n",
              "      <td>970960.000000</td>\n",
              "      <td>970960.000000</td>\n",
              "      <td>970960.000000</td>\n",
              "      <td>970960.000000</td>\n",
              "      <td>970960.000000</td>\n",
              "      <td>970960.000000</td>\n",
              "      <td>970960.000000</td>\n",
              "      <td>970960.000000</td>\n",
              "      <td>970960.000000</td>\n",
              "      <td>970960.000000</td>\n",
              "      <td>970960.000000</td>\n",
              "      <td>970960.000000</td>\n",
              "      <td>970960.000000</td>\n",
              "      <td>970960.000000</td>\n",
              "      <td>970960.000000</td>\n",
              "      <td>970960.000000</td>\n",
              "    </tr>\n",
              "    <tr>\n",
              "      <th>mean</th>\n",
              "      <td>0.089942</td>\n",
              "      <td>5.377985</td>\n",
              "      <td>6.904894</td>\n",
              "      <td>38.980580</td>\n",
              "      <td>33.870175</td>\n",
              "      <td>137.312482</td>\n",
              "      <td>137.144432</td>\n",
              "      <td>0.915621</td>\n",
              "      <td>0.018600</td>\n",
              "      <td>64.235962</td>\n",
              "      <td>133525.936898</td>\n",
              "      <td>0.183335</td>\n",
              "      <td>0.046258</td>\n",
              "      <td>0.738445</td>\n",
              "      <td>3622.760136</td>\n",
              "      <td>2348.038834</td>\n",
              "      <td>2307.555337</td>\n",
              "      <td>2332.506040</td>\n",
              "    </tr>\n",
              "    <tr>\n",
              "      <th>std</th>\n",
              "      <td>0.286099</td>\n",
              "      <td>6.264004</td>\n",
              "      <td>1.825053</td>\n",
              "      <td>3.735683</td>\n",
              "      <td>33.145373</td>\n",
              "      <td>59.457891</td>\n",
              "      <td>59.592053</td>\n",
              "      <td>0.277956</td>\n",
              "      <td>0.135108</td>\n",
              "      <td>39.653047</td>\n",
              "      <td>128387.816988</td>\n",
              "      <td>0.124044</td>\n",
              "      <td>0.037513</td>\n",
              "      <td>0.162003</td>\n",
              "      <td>1027.431145</td>\n",
              "      <td>18.778962</td>\n",
              "      <td>24.720329</td>\n",
              "      <td>4.005140</td>\n",
              "    </tr>\n",
              "    <tr>\n",
              "      <th>min</th>\n",
              "      <td>0.000000</td>\n",
              "      <td>1.000000</td>\n",
              "      <td>3.000000</td>\n",
              "      <td>3.000000</td>\n",
              "      <td>0.000000</td>\n",
              "      <td>0.000000</td>\n",
              "      <td>0.000000</td>\n",
              "      <td>0.000000</td>\n",
              "      <td>0.000000</td>\n",
              "      <td>1.000000</td>\n",
              "      <td>0.035000</td>\n",
              "      <td>0.000000</td>\n",
              "      <td>0.000000</td>\n",
              "      <td>0.226005</td>\n",
              "      <td>2306.000000</td>\n",
              "      <td>2330.000000</td>\n",
              "      <td>2158.670752</td>\n",
              "      <td>2330.000000</td>\n",
              "    </tr>\n",
              "    <tr>\n",
              "      <th>25%</th>\n",
              "      <td>0.000000</td>\n",
              "      <td>1.000000</td>\n",
              "      <td>7.000000</td>\n",
              "      <td>38.000000</td>\n",
              "      <td>30.000000</td>\n",
              "      <td>99.000000</td>\n",
              "      <td>99.000000</td>\n",
              "      <td>1.000000</td>\n",
              "      <td>0.000000</td>\n",
              "      <td>37.000000</td>\n",
              "      <td>43109.197250</td>\n",
              "      <td>0.095390</td>\n",
              "      <td>0.021978</td>\n",
              "      <td>0.683026</td>\n",
              "      <td>2810.000000</td>\n",
              "      <td>2338.000000</td>\n",
              "      <td>2303.000000</td>\n",
              "      <td>2330.000000</td>\n",
              "    </tr>\n",
              "    <tr>\n",
              "      <th>50%</th>\n",
              "      <td>0.000000</td>\n",
              "      <td>1.000000</td>\n",
              "      <td>7.000000</td>\n",
              "      <td>41.000000</td>\n",
              "      <td>30.000000</td>\n",
              "      <td>149.000000</td>\n",
              "      <td>149.000000</td>\n",
              "      <td>1.000000</td>\n",
              "      <td>0.000000</td>\n",
              "      <td>65.123435</td>\n",
              "      <td>126896.534500</td>\n",
              "      <td>0.185996</td>\n",
              "      <td>0.046786</td>\n",
              "      <td>0.736224</td>\n",
              "      <td>3551.000000</td>\n",
              "      <td>2347.000000</td>\n",
              "      <td>2311.000000</td>\n",
              "      <td>2331.000000</td>\n",
              "    </tr>\n",
              "    <tr>\n",
              "      <th>75%</th>\n",
              "      <td>0.000000</td>\n",
              "      <td>11.000000</td>\n",
              "      <td>7.000000</td>\n",
              "      <td>41.000000</td>\n",
              "      <td>30.000000</td>\n",
              "      <td>149.000000</td>\n",
              "      <td>149.000000</td>\n",
              "      <td>1.000000</td>\n",
              "      <td>0.000000</td>\n",
              "      <td>76.000000</td>\n",
              "      <td>140794.615500</td>\n",
              "      <td>0.219114</td>\n",
              "      <td>0.050445</td>\n",
              "      <td>0.852273</td>\n",
              "      <td>4062.000000</td>\n",
              "      <td>2355.000000</td>\n",
              "      <td>2320.000000</td>\n",
              "      <td>2332.705707</td>\n",
              "    </tr>\n",
              "    <tr>\n",
              "      <th>max</th>\n",
              "      <td>1.000000</td>\n",
              "      <td>22.000000</td>\n",
              "      <td>13.000000</td>\n",
              "      <td>41.000000</td>\n",
              "      <td>450.000000</td>\n",
              "      <td>564.946789</td>\n",
              "      <td>564.957389</td>\n",
              "      <td>1.000000</td>\n",
              "      <td>1.000000</td>\n",
              "      <td>198.663728</td>\n",
              "      <td>630426.734475</td>\n",
              "      <td>0.591411</td>\n",
              "      <td>0.202598</td>\n",
              "      <td>1.000000</td>\n",
              "      <td>6725.205993</td>\n",
              "      <td>2507.613742</td>\n",
              "      <td>2361.000000</td>\n",
              "      <td>2347.258221</td>\n",
              "    </tr>\n",
              "  </tbody>\n",
              "</table>\n",
              "</div>\n",
              "      <button class=\"colab-df-convert\" onclick=\"convertToInteractive('df-c75acd26-5d94-49d2-b3b9-6fbed390eea7')\"\n",
              "              title=\"Convert this dataframe to an interactive table.\"\n",
              "              style=\"display:none;\">\n",
              "        \n",
              "  <svg xmlns=\"http://www.w3.org/2000/svg\" height=\"24px\"viewBox=\"0 0 24 24\"\n",
              "       width=\"24px\">\n",
              "    <path d=\"M0 0h24v24H0V0z\" fill=\"none\"/>\n",
              "    <path d=\"M18.56 5.44l.94 2.06.94-2.06 2.06-.94-2.06-.94-.94-2.06-.94 2.06-2.06.94zm-11 1L8.5 8.5l.94-2.06 2.06-.94-2.06-.94L8.5 2.5l-.94 2.06-2.06.94zm10 10l.94 2.06.94-2.06 2.06-.94-2.06-.94-.94-2.06-.94 2.06-2.06.94z\"/><path d=\"M17.41 7.96l-1.37-1.37c-.4-.4-.92-.59-1.43-.59-.52 0-1.04.2-1.43.59L10.3 9.45l-7.72 7.72c-.78.78-.78 2.05 0 2.83L4 21.41c.39.39.9.59 1.41.59.51 0 1.02-.2 1.41-.59l7.78-7.78 2.81-2.81c.8-.78.8-2.07 0-2.86zM5.41 20L4 18.59l7.72-7.72 1.47 1.35L5.41 20z\"/>\n",
              "  </svg>\n",
              "      </button>\n",
              "      \n",
              "  <style>\n",
              "    .colab-df-container {\n",
              "      display:flex;\n",
              "      flex-wrap:wrap;\n",
              "      gap: 12px;\n",
              "    }\n",
              "\n",
              "    .colab-df-convert {\n",
              "      background-color: #E8F0FE;\n",
              "      border: none;\n",
              "      border-radius: 50%;\n",
              "      cursor: pointer;\n",
              "      display: none;\n",
              "      fill: #1967D2;\n",
              "      height: 32px;\n",
              "      padding: 0 0 0 0;\n",
              "      width: 32px;\n",
              "    }\n",
              "\n",
              "    .colab-df-convert:hover {\n",
              "      background-color: #E2EBFA;\n",
              "      box-shadow: 0px 1px 2px rgba(60, 64, 67, 0.3), 0px 1px 3px 1px rgba(60, 64, 67, 0.15);\n",
              "      fill: #174EA6;\n",
              "    }\n",
              "\n",
              "    [theme=dark] .colab-df-convert {\n",
              "      background-color: #3B4455;\n",
              "      fill: #D2E3FC;\n",
              "    }\n",
              "\n",
              "    [theme=dark] .colab-df-convert:hover {\n",
              "      background-color: #434B5C;\n",
              "      box-shadow: 0px 1px 3px 1px rgba(0, 0, 0, 0.15);\n",
              "      filter: drop-shadow(0px 1px 2px rgba(0, 0, 0, 0.3));\n",
              "      fill: #FFFFFF;\n",
              "    }\n",
              "  </style>\n",
              "\n",
              "      <script>\n",
              "        const buttonEl =\n",
              "          document.querySelector('#df-c75acd26-5d94-49d2-b3b9-6fbed390eea7 button.colab-df-convert');\n",
              "        buttonEl.style.display =\n",
              "          google.colab.kernel.accessAllowed ? 'block' : 'none';\n",
              "\n",
              "        async function convertToInteractive(key) {\n",
              "          const element = document.querySelector('#df-c75acd26-5d94-49d2-b3b9-6fbed390eea7');\n",
              "          const dataTable =\n",
              "            await google.colab.kernel.invokeFunction('convertToInteractive',\n",
              "                                                     [key], {});\n",
              "          if (!dataTable) return;\n",
              "\n",
              "          const docLinkHtml = 'Like what you see? Visit the ' +\n",
              "            '<a target=\"_blank\" href=https://colab.research.google.com/notebooks/data_table.ipynb>data table notebook</a>'\n",
              "            + ' to learn more about interactive tables.';\n",
              "          element.innerHTML = '';\n",
              "          dataTable['output_type'] = 'display_data';\n",
              "          await google.colab.output.renderOutput(dataTable, element);\n",
              "          const docLink = document.createElement('div');\n",
              "          docLink.innerHTML = docLinkHtml;\n",
              "          element.appendChild(docLink);\n",
              "        }\n",
              "      </script>\n",
              "    </div>\n",
              "  </div>\n",
              "  "
            ]
          },
          "metadata": {},
          "execution_count": 19
        }
      ],
      "source": [
        "def replaceoutlier(i):\n",
        "    mean, std = np.mean(dataset_train_v2[i]), np.std(dataset_train_v2[i])\n",
        "    cut_off = std*3\n",
        "    lower, upper = mean - cut_off, mean + cut_off\n",
        "    dataset_train_v2[i][dataset_train_v2[i] < lower] = lower\n",
        "    dataset_train_v2[i][dataset_train_v2[i] > upper] = upper\n",
        "    return\n",
        "\n",
        "replaceoutlier('plan_list_price')\n",
        "replaceoutlier('actual_amount_paid')\n",
        "replaceoutlier('num_unq')\n",
        "replaceoutlier('total_secs')\n",
        "replaceoutlier('percent_25')\n",
        "replaceoutlier('percent_50')\n",
        "replaceoutlier('percent_100')\n",
        "replaceoutlier('registration_day')\n",
        "replaceoutlier('transaction_day')\n",
        "replaceoutlier('membership_expire_day')\n",
        "replaceoutlier('last_play_day')\n",
        "\n",
        "dataset_train_v2.dtypes\n",
        "dataset_train_v2.describe()"
      ]
    },
    {
      "cell_type": "markdown",
      "metadata": {
        "id": "T1-O5rpXQfDK"
      },
      "source": [
        "convert categorical variables into string"
      ]
    },
    {
      "cell_type": "code",
      "execution_count": null,
      "metadata": {
        "id": "1qsvQoH9QiAr"
      },
      "outputs": [],
      "source": [
        "dataset_train_v2.iloc[:, 1:4] = dataset_train_v2.iloc[:, 1:4].astype(str)"
      ]
    },
    {
      "cell_type": "markdown",
      "metadata": {
        "id": "VyLPwlQaQtaS"
      },
      "source": [
        "replace discrete features with historical churn rate"
      ]
    },
    {
      "cell_type": "code",
      "execution_count": null,
      "metadata": {
        "id": "OzcKbLvEQxEB"
      },
      "outputs": [],
      "source": [
        "city_mean = pd.DataFrame(dataset_train_v2.groupby('city')['is_churn'].mean().reset_index())\n",
        "city_mean.rename(columns = {'is_churn': 'city_mean'}, inplace=True)\n",
        "register_mean = pd.DataFrame(dataset_train_v2.groupby('registered_via')['is_churn'].mean().reset_index())\n",
        "register_mean.rename(columns = {'is_churn': 'register_mean'}, inplace=True)\n",
        "payment_mean = pd.DataFrame(dataset_train_v2.groupby('payment_method_id')['is_churn'].mean().reset_index())\n",
        "payment_mean.rename(columns = {'is_churn': 'payment_mean'}, inplace=True)\n",
        "\n",
        "dataset_train_v3 = dataset_train_v2.merge(city_mean, on = 'city', how = 'left').merge(register_mean, on = 'registered_via', how = 'left').merge(payment_mean, on = 'payment_method_id', how = 'left')\n",
        "dataset_train_v3 = dataset_train_v3.drop(columns = ['city', 'registered_via', 'payment_method_id'])\n"
      ]
    },
    {
      "cell_type": "markdown",
      "metadata": {
        "id": "zMtogMzmQ2X_"
      },
      "source": [
        "Feature Scaling for modelling purpose by using both min-max-scaling"
      ]
    },
    {
      "cell_type": "code",
      "execution_count": null,
      "metadata": {
        "id": "ZvvN82ZjQ56A"
      },
      "outputs": [],
      "source": [
        "from sklearn.preprocessing import MinMaxScaler\n",
        "X = dataset_train_v3.drop(columns = ['is_churn'])\n",
        "Y = dataset_train_v3['is_churn']\n",
        "nm_X = pd.DataFrame(MinMaxScaler().fit_transform(X))\n",
        "nm_X.columns = X.columns.values\n",
        "nm_X.index = X.index.values\n"
      ]
    },
    {
      "cell_type": "markdown",
      "metadata": {
        "id": "3uhDglBcQ8Xz"
      },
      "source": [
        "Feature Selection"
      ]
    },
    {
      "cell_type": "code",
      "execution_count": null,
      "metadata": {
        "id": "c5iSUEpZQ-az"
      },
      "outputs": [],
      "source": [
        "from sklearn.feature_selection import SelectKBest, chi2, f_classif\n",
        "nm_col = ['is_auto_renew', 'is_cancel']\n",
        "nm_X_v2 = nm_X.drop(columns = nm_col)\n",
        "nm_X_v3 = pd.DataFrame(nm_X, columns = nm_col)\n",
        "nm_X_v4 = pd.DataFrame(SelectKBest(score_func=chi2, k='all').fit(nm_X_v3, Y).pvalues_ <= 0.05, columns = ['importance'])\n",
        "nm_X_v4.index = nm_X_v3.columns.values\n",
        "nm_X_v5 = pd.DataFrame(SelectKBest(score_func=f_classif, k='all').fit(nm_X_v2, Y).pvalues_ <= 0.05, columns = ['importance'])\n",
        "nm_X_v5.index = nm_X_v2.columns.values\n",
        "nm_X_v6 = pd.concat([nm_X_v4, nm_X_v5])\n",
        "nm_selected = list(pd.Series(nm_X_v6[nm_X_v6['importance'] == 1].index.values))\n",
        "nm_X_v7 = pd.DataFrame(nm_X, columns = nm_selected)\n"
      ]
    },
    {
      "cell_type": "markdown",
      "metadata": {
        "id": "Yya196hDRBSf"
      },
      "source": [
        "Dimension Reduction"
      ]
    },
    {
      "cell_type": "code",
      "execution_count": null,
      "metadata": {
        "id": "2Re4U1wpRFK2"
      },
      "outputs": [],
      "source": [
        "from sklearn.decomposition import PCA\n",
        "pca = PCA()\n",
        "pca.fit_transform(nm_X_v7)\n",
        "np.cumsum(pca.explained_variance_ratio_)\n",
        "nm_X_v8 = pd.DataFrame(PCA(n_components=10).fit_transform(nm_X_v7),columns = [\"\"])\n"
      ]
    },
    {
      "cell_type": "code",
      "source": [
        "nm_X_v8.head()"
      ],
      "metadata": {
        "colab": {
          "base_uri": "https://localhost:8080/",
          "height": 206
        },
        "id": "-aVRmdzfZzLP",
        "outputId": "79bd8ad4-1417-41b3-9962-6257d1f20c44"
      },
      "execution_count": null,
      "outputs": [
        {
          "output_type": "execute_result",
          "data": {
            "text/plain": [
              "          0         1         2         3         4         5         6  \\\n",
              "0  0.628673 -0.062653 -0.182833  0.264305  0.238114  0.053275  0.065127   \n",
              "1  0.708583 -0.451231  0.731810 -0.325409  0.029277  0.157258 -0.413314   \n",
              "2  0.914509  0.012337  1.074347  0.237393 -0.278264  0.190097  0.168211   \n",
              "3 -0.323182  0.114473  0.120561 -0.025698 -0.185904  0.195808  0.614533   \n",
              "4  0.225305  0.239037 -0.357108 -0.140872 -0.498801  0.220262  0.406497   \n",
              "\n",
              "          7         8         9  \n",
              "0 -0.032926  0.289713  0.010577  \n",
              "1 -0.081948 -0.378832  0.067124  \n",
              "2  0.044930  0.093576 -0.102084  \n",
              "3 -0.071374 -0.036722  0.938720  \n",
              "4 -0.080835 -0.100077  0.968652  "
            ],
            "text/html": [
              "\n",
              "  <div id=\"df-8359e194-dba3-4818-bfcf-73fac8047169\">\n",
              "    <div class=\"colab-df-container\">\n",
              "      <div>\n",
              "<style scoped>\n",
              "    .dataframe tbody tr th:only-of-type {\n",
              "        vertical-align: middle;\n",
              "    }\n",
              "\n",
              "    .dataframe tbody tr th {\n",
              "        vertical-align: top;\n",
              "    }\n",
              "\n",
              "    .dataframe thead th {\n",
              "        text-align: right;\n",
              "    }\n",
              "</style>\n",
              "<table border=\"1\" class=\"dataframe\">\n",
              "  <thead>\n",
              "    <tr style=\"text-align: right;\">\n",
              "      <th></th>\n",
              "      <th>0</th>\n",
              "      <th>1</th>\n",
              "      <th>2</th>\n",
              "      <th>3</th>\n",
              "      <th>4</th>\n",
              "      <th>5</th>\n",
              "      <th>6</th>\n",
              "      <th>7</th>\n",
              "      <th>8</th>\n",
              "      <th>9</th>\n",
              "    </tr>\n",
              "  </thead>\n",
              "  <tbody>\n",
              "    <tr>\n",
              "      <th>0</th>\n",
              "      <td>0.628673</td>\n",
              "      <td>-0.062653</td>\n",
              "      <td>-0.182833</td>\n",
              "      <td>0.264305</td>\n",
              "      <td>0.238114</td>\n",
              "      <td>0.053275</td>\n",
              "      <td>0.065127</td>\n",
              "      <td>-0.032926</td>\n",
              "      <td>0.289713</td>\n",
              "      <td>0.010577</td>\n",
              "    </tr>\n",
              "    <tr>\n",
              "      <th>1</th>\n",
              "      <td>0.708583</td>\n",
              "      <td>-0.451231</td>\n",
              "      <td>0.731810</td>\n",
              "      <td>-0.325409</td>\n",
              "      <td>0.029277</td>\n",
              "      <td>0.157258</td>\n",
              "      <td>-0.413314</td>\n",
              "      <td>-0.081948</td>\n",
              "      <td>-0.378832</td>\n",
              "      <td>0.067124</td>\n",
              "    </tr>\n",
              "    <tr>\n",
              "      <th>2</th>\n",
              "      <td>0.914509</td>\n",
              "      <td>0.012337</td>\n",
              "      <td>1.074347</td>\n",
              "      <td>0.237393</td>\n",
              "      <td>-0.278264</td>\n",
              "      <td>0.190097</td>\n",
              "      <td>0.168211</td>\n",
              "      <td>0.044930</td>\n",
              "      <td>0.093576</td>\n",
              "      <td>-0.102084</td>\n",
              "    </tr>\n",
              "    <tr>\n",
              "      <th>3</th>\n",
              "      <td>-0.323182</td>\n",
              "      <td>0.114473</td>\n",
              "      <td>0.120561</td>\n",
              "      <td>-0.025698</td>\n",
              "      <td>-0.185904</td>\n",
              "      <td>0.195808</td>\n",
              "      <td>0.614533</td>\n",
              "      <td>-0.071374</td>\n",
              "      <td>-0.036722</td>\n",
              "      <td>0.938720</td>\n",
              "    </tr>\n",
              "    <tr>\n",
              "      <th>4</th>\n",
              "      <td>0.225305</td>\n",
              "      <td>0.239037</td>\n",
              "      <td>-0.357108</td>\n",
              "      <td>-0.140872</td>\n",
              "      <td>-0.498801</td>\n",
              "      <td>0.220262</td>\n",
              "      <td>0.406497</td>\n",
              "      <td>-0.080835</td>\n",
              "      <td>-0.100077</td>\n",
              "      <td>0.968652</td>\n",
              "    </tr>\n",
              "  </tbody>\n",
              "</table>\n",
              "</div>\n",
              "      <button class=\"colab-df-convert\" onclick=\"convertToInteractive('df-8359e194-dba3-4818-bfcf-73fac8047169')\"\n",
              "              title=\"Convert this dataframe to an interactive table.\"\n",
              "              style=\"display:none;\">\n",
              "        \n",
              "  <svg xmlns=\"http://www.w3.org/2000/svg\" height=\"24px\"viewBox=\"0 0 24 24\"\n",
              "       width=\"24px\">\n",
              "    <path d=\"M0 0h24v24H0V0z\" fill=\"none\"/>\n",
              "    <path d=\"M18.56 5.44l.94 2.06.94-2.06 2.06-.94-2.06-.94-.94-2.06-.94 2.06-2.06.94zm-11 1L8.5 8.5l.94-2.06 2.06-.94-2.06-.94L8.5 2.5l-.94 2.06-2.06.94zm10 10l.94 2.06.94-2.06 2.06-.94-2.06-.94-.94-2.06-.94 2.06-2.06.94z\"/><path d=\"M17.41 7.96l-1.37-1.37c-.4-.4-.92-.59-1.43-.59-.52 0-1.04.2-1.43.59L10.3 9.45l-7.72 7.72c-.78.78-.78 2.05 0 2.83L4 21.41c.39.39.9.59 1.41.59.51 0 1.02-.2 1.41-.59l7.78-7.78 2.81-2.81c.8-.78.8-2.07 0-2.86zM5.41 20L4 18.59l7.72-7.72 1.47 1.35L5.41 20z\"/>\n",
              "  </svg>\n",
              "      </button>\n",
              "      \n",
              "  <style>\n",
              "    .colab-df-container {\n",
              "      display:flex;\n",
              "      flex-wrap:wrap;\n",
              "      gap: 12px;\n",
              "    }\n",
              "\n",
              "    .colab-df-convert {\n",
              "      background-color: #E8F0FE;\n",
              "      border: none;\n",
              "      border-radius: 50%;\n",
              "      cursor: pointer;\n",
              "      display: none;\n",
              "      fill: #1967D2;\n",
              "      height: 32px;\n",
              "      padding: 0 0 0 0;\n",
              "      width: 32px;\n",
              "    }\n",
              "\n",
              "    .colab-df-convert:hover {\n",
              "      background-color: #E2EBFA;\n",
              "      box-shadow: 0px 1px 2px rgba(60, 64, 67, 0.3), 0px 1px 3px 1px rgba(60, 64, 67, 0.15);\n",
              "      fill: #174EA6;\n",
              "    }\n",
              "\n",
              "    [theme=dark] .colab-df-convert {\n",
              "      background-color: #3B4455;\n",
              "      fill: #D2E3FC;\n",
              "    }\n",
              "\n",
              "    [theme=dark] .colab-df-convert:hover {\n",
              "      background-color: #434B5C;\n",
              "      box-shadow: 0px 1px 3px 1px rgba(0, 0, 0, 0.15);\n",
              "      filter: drop-shadow(0px 1px 2px rgba(0, 0, 0, 0.3));\n",
              "      fill: #FFFFFF;\n",
              "    }\n",
              "  </style>\n",
              "\n",
              "      <script>\n",
              "        const buttonEl =\n",
              "          document.querySelector('#df-8359e194-dba3-4818-bfcf-73fac8047169 button.colab-df-convert');\n",
              "        buttonEl.style.display =\n",
              "          google.colab.kernel.accessAllowed ? 'block' : 'none';\n",
              "\n",
              "        async function convertToInteractive(key) {\n",
              "          const element = document.querySelector('#df-8359e194-dba3-4818-bfcf-73fac8047169');\n",
              "          const dataTable =\n",
              "            await google.colab.kernel.invokeFunction('convertToInteractive',\n",
              "                                                     [key], {});\n",
              "          if (!dataTable) return;\n",
              "\n",
              "          const docLinkHtml = 'Like what you see? Visit the ' +\n",
              "            '<a target=\"_blank\" href=https://colab.research.google.com/notebooks/data_table.ipynb>data table notebook</a>'\n",
              "            + ' to learn more about interactive tables.';\n",
              "          element.innerHTML = '';\n",
              "          dataTable['output_type'] = 'display_data';\n",
              "          await google.colab.output.renderOutput(dataTable, element);\n",
              "          const docLink = document.createElement('div');\n",
              "          docLink.innerHTML = docLinkHtml;\n",
              "          element.appendChild(docLink);\n",
              "        }\n",
              "      </script>\n",
              "    </div>\n",
              "  </div>\n",
              "  "
            ]
          },
          "metadata": {},
          "execution_count": 32
        }
      ]
    },
    {
      "cell_type": "code",
      "source": [
        "nm_X_v9 = pd.DataFrame(pca.components_,columns=nm_X_v7.columns)\n",
        "nm_X_v9.head()"
      ],
      "metadata": {
        "colab": {
          "base_uri": "https://localhost:8080/",
          "height": 270
        },
        "id": "ms2Kyr74ZKEO",
        "outputId": "9291bc66-a614-4f80-d4c1-6397bcb54e9a"
      },
      "execution_count": null,
      "outputs": [
        {
          "output_type": "execute_result",
          "data": {
            "text/plain": [
              "   is_auto_renew  is_cancel  payment_plan_days  plan_list_price  \\\n",
              "0      -0.276471  -0.002692           0.038861         0.123910   \n",
              "1      -0.234743  -0.041709           0.034023         0.038314   \n",
              "2      -0.737074  -0.017458           0.100873         0.143134   \n",
              "3       0.156743  -0.042159          -0.033980        -0.051002   \n",
              "4       0.168440   0.082349          -0.117216        -0.119741   \n",
              "\n",
              "   actual_amount_paid   num_unq  total_secs  percent_50  percent_100  \\\n",
              "0            0.123469  0.104244    0.102603   -0.022555     0.044343   \n",
              "1            0.038581  0.442105    0.513503   -0.254558     0.335498   \n",
              "2            0.143773 -0.097180   -0.157652    0.219386    -0.277573   \n",
              "3           -0.051117  0.301152    0.119460    0.530279    -0.599431   \n",
              "4           -0.120783  0.318604    0.269716    0.071402    -0.101965   \n",
              "\n",
              "   transaction_day  membership_expire_day  last_play_day  city_mean  \\\n",
              "0         0.011941              -0.078677      -0.079763   0.732112   \n",
              "1         0.000629              -0.038354      -0.473963  -0.243562   \n",
              "2        -0.002621              -0.109569       0.038507  -0.405567   \n",
              "3        -0.005108               0.034711      -0.431794   0.125500   \n",
              "4        -0.040815               0.194723       0.368719  -0.373736   \n",
              "\n",
              "   register_mean  payment_mean  \n",
              "0       0.562388      0.051138  \n",
              "1      -0.109232      0.071938  \n",
              "2       0.143382      0.216957  \n",
              "3      -0.121629     -0.059900  \n",
              "4       0.627642     -0.152579  "
            ],
            "text/html": [
              "\n",
              "  <div id=\"df-7a9e70ac-f4f7-4972-ab8f-7432f2442f42\">\n",
              "    <div class=\"colab-df-container\">\n",
              "      <div>\n",
              "<style scoped>\n",
              "    .dataframe tbody tr th:only-of-type {\n",
              "        vertical-align: middle;\n",
              "    }\n",
              "\n",
              "    .dataframe tbody tr th {\n",
              "        vertical-align: top;\n",
              "    }\n",
              "\n",
              "    .dataframe thead th {\n",
              "        text-align: right;\n",
              "    }\n",
              "</style>\n",
              "<table border=\"1\" class=\"dataframe\">\n",
              "  <thead>\n",
              "    <tr style=\"text-align: right;\">\n",
              "      <th></th>\n",
              "      <th>is_auto_renew</th>\n",
              "      <th>is_cancel</th>\n",
              "      <th>payment_plan_days</th>\n",
              "      <th>plan_list_price</th>\n",
              "      <th>actual_amount_paid</th>\n",
              "      <th>num_unq</th>\n",
              "      <th>total_secs</th>\n",
              "      <th>percent_50</th>\n",
              "      <th>percent_100</th>\n",
              "      <th>transaction_day</th>\n",
              "      <th>membership_expire_day</th>\n",
              "      <th>last_play_day</th>\n",
              "      <th>city_mean</th>\n",
              "      <th>register_mean</th>\n",
              "      <th>payment_mean</th>\n",
              "    </tr>\n",
              "  </thead>\n",
              "  <tbody>\n",
              "    <tr>\n",
              "      <th>0</th>\n",
              "      <td>-0.276471</td>\n",
              "      <td>-0.002692</td>\n",
              "      <td>0.038861</td>\n",
              "      <td>0.123910</td>\n",
              "      <td>0.123469</td>\n",
              "      <td>0.104244</td>\n",
              "      <td>0.102603</td>\n",
              "      <td>-0.022555</td>\n",
              "      <td>0.044343</td>\n",
              "      <td>0.011941</td>\n",
              "      <td>-0.078677</td>\n",
              "      <td>-0.079763</td>\n",
              "      <td>0.732112</td>\n",
              "      <td>0.562388</td>\n",
              "      <td>0.051138</td>\n",
              "    </tr>\n",
              "    <tr>\n",
              "      <th>1</th>\n",
              "      <td>-0.234743</td>\n",
              "      <td>-0.041709</td>\n",
              "      <td>0.034023</td>\n",
              "      <td>0.038314</td>\n",
              "      <td>0.038581</td>\n",
              "      <td>0.442105</td>\n",
              "      <td>0.513503</td>\n",
              "      <td>-0.254558</td>\n",
              "      <td>0.335498</td>\n",
              "      <td>0.000629</td>\n",
              "      <td>-0.038354</td>\n",
              "      <td>-0.473963</td>\n",
              "      <td>-0.243562</td>\n",
              "      <td>-0.109232</td>\n",
              "      <td>0.071938</td>\n",
              "    </tr>\n",
              "    <tr>\n",
              "      <th>2</th>\n",
              "      <td>-0.737074</td>\n",
              "      <td>-0.017458</td>\n",
              "      <td>0.100873</td>\n",
              "      <td>0.143134</td>\n",
              "      <td>0.143773</td>\n",
              "      <td>-0.097180</td>\n",
              "      <td>-0.157652</td>\n",
              "      <td>0.219386</td>\n",
              "      <td>-0.277573</td>\n",
              "      <td>-0.002621</td>\n",
              "      <td>-0.109569</td>\n",
              "      <td>0.038507</td>\n",
              "      <td>-0.405567</td>\n",
              "      <td>0.143382</td>\n",
              "      <td>0.216957</td>\n",
              "    </tr>\n",
              "    <tr>\n",
              "      <th>3</th>\n",
              "      <td>0.156743</td>\n",
              "      <td>-0.042159</td>\n",
              "      <td>-0.033980</td>\n",
              "      <td>-0.051002</td>\n",
              "      <td>-0.051117</td>\n",
              "      <td>0.301152</td>\n",
              "      <td>0.119460</td>\n",
              "      <td>0.530279</td>\n",
              "      <td>-0.599431</td>\n",
              "      <td>-0.005108</td>\n",
              "      <td>0.034711</td>\n",
              "      <td>-0.431794</td>\n",
              "      <td>0.125500</td>\n",
              "      <td>-0.121629</td>\n",
              "      <td>-0.059900</td>\n",
              "    </tr>\n",
              "    <tr>\n",
              "      <th>4</th>\n",
              "      <td>0.168440</td>\n",
              "      <td>0.082349</td>\n",
              "      <td>-0.117216</td>\n",
              "      <td>-0.119741</td>\n",
              "      <td>-0.120783</td>\n",
              "      <td>0.318604</td>\n",
              "      <td>0.269716</td>\n",
              "      <td>0.071402</td>\n",
              "      <td>-0.101965</td>\n",
              "      <td>-0.040815</td>\n",
              "      <td>0.194723</td>\n",
              "      <td>0.368719</td>\n",
              "      <td>-0.373736</td>\n",
              "      <td>0.627642</td>\n",
              "      <td>-0.152579</td>\n",
              "    </tr>\n",
              "  </tbody>\n",
              "</table>\n",
              "</div>\n",
              "      <button class=\"colab-df-convert\" onclick=\"convertToInteractive('df-7a9e70ac-f4f7-4972-ab8f-7432f2442f42')\"\n",
              "              title=\"Convert this dataframe to an interactive table.\"\n",
              "              style=\"display:none;\">\n",
              "        \n",
              "  <svg xmlns=\"http://www.w3.org/2000/svg\" height=\"24px\"viewBox=\"0 0 24 24\"\n",
              "       width=\"24px\">\n",
              "    <path d=\"M0 0h24v24H0V0z\" fill=\"none\"/>\n",
              "    <path d=\"M18.56 5.44l.94 2.06.94-2.06 2.06-.94-2.06-.94-.94-2.06-.94 2.06-2.06.94zm-11 1L8.5 8.5l.94-2.06 2.06-.94-2.06-.94L8.5 2.5l-.94 2.06-2.06.94zm10 10l.94 2.06.94-2.06 2.06-.94-2.06-.94-.94-2.06-.94 2.06-2.06.94z\"/><path d=\"M17.41 7.96l-1.37-1.37c-.4-.4-.92-.59-1.43-.59-.52 0-1.04.2-1.43.59L10.3 9.45l-7.72 7.72c-.78.78-.78 2.05 0 2.83L4 21.41c.39.39.9.59 1.41.59.51 0 1.02-.2 1.41-.59l7.78-7.78 2.81-2.81c.8-.78.8-2.07 0-2.86zM5.41 20L4 18.59l7.72-7.72 1.47 1.35L5.41 20z\"/>\n",
              "  </svg>\n",
              "      </button>\n",
              "      \n",
              "  <style>\n",
              "    .colab-df-container {\n",
              "      display:flex;\n",
              "      flex-wrap:wrap;\n",
              "      gap: 12px;\n",
              "    }\n",
              "\n",
              "    .colab-df-convert {\n",
              "      background-color: #E8F0FE;\n",
              "      border: none;\n",
              "      border-radius: 50%;\n",
              "      cursor: pointer;\n",
              "      display: none;\n",
              "      fill: #1967D2;\n",
              "      height: 32px;\n",
              "      padding: 0 0 0 0;\n",
              "      width: 32px;\n",
              "    }\n",
              "\n",
              "    .colab-df-convert:hover {\n",
              "      background-color: #E2EBFA;\n",
              "      box-shadow: 0px 1px 2px rgba(60, 64, 67, 0.3), 0px 1px 3px 1px rgba(60, 64, 67, 0.15);\n",
              "      fill: #174EA6;\n",
              "    }\n",
              "\n",
              "    [theme=dark] .colab-df-convert {\n",
              "      background-color: #3B4455;\n",
              "      fill: #D2E3FC;\n",
              "    }\n",
              "\n",
              "    [theme=dark] .colab-df-convert:hover {\n",
              "      background-color: #434B5C;\n",
              "      box-shadow: 0px 1px 3px 1px rgba(0, 0, 0, 0.15);\n",
              "      filter: drop-shadow(0px 1px 2px rgba(0, 0, 0, 0.3));\n",
              "      fill: #FFFFFF;\n",
              "    }\n",
              "  </style>\n",
              "\n",
              "      <script>\n",
              "        const buttonEl =\n",
              "          document.querySelector('#df-7a9e70ac-f4f7-4972-ab8f-7432f2442f42 button.colab-df-convert');\n",
              "        buttonEl.style.display =\n",
              "          google.colab.kernel.accessAllowed ? 'block' : 'none';\n",
              "\n",
              "        async function convertToInteractive(key) {\n",
              "          const element = document.querySelector('#df-7a9e70ac-f4f7-4972-ab8f-7432f2442f42');\n",
              "          const dataTable =\n",
              "            await google.colab.kernel.invokeFunction('convertToInteractive',\n",
              "                                                     [key], {});\n",
              "          if (!dataTable) return;\n",
              "\n",
              "          const docLinkHtml = 'Like what you see? Visit the ' +\n",
              "            '<a target=\"_blank\" href=https://colab.research.google.com/notebooks/data_table.ipynb>data table notebook</a>'\n",
              "            + ' to learn more about interactive tables.';\n",
              "          element.innerHTML = '';\n",
              "          dataTable['output_type'] = 'display_data';\n",
              "          await google.colab.output.renderOutput(dataTable, element);\n",
              "          const docLink = document.createElement('div');\n",
              "          docLink.innerHTML = docLinkHtml;\n",
              "          element.appendChild(docLink);\n",
              "        }\n",
              "      </script>\n",
              "    </div>\n",
              "  </div>\n",
              "  "
            ]
          },
          "metadata": {},
          "execution_count": 29
        }
      ]
    },
    {
      "cell_type": "code",
      "execution_count": null,
      "metadata": {
        "colab": {
          "base_uri": "https://localhost:8080/"
        },
        "id": "uCaRu9v_tK5W",
        "outputId": "562147a0-a57a-43aa-bc69-5e5242d39855"
      },
      "outputs": [
        {
          "output_type": "execute_result",
          "data": {
            "text/plain": [
              "array([[-2.76470883e-01, -2.69173914e-03,  3.88612043e-02,\n",
              "         1.23910328e-01,  1.23468970e-01,  1.04243814e-01,\n",
              "         1.02602569e-01, -2.25552256e-02,  4.43425151e-02,\n",
              "         1.19409344e-02, -7.86765362e-02, -7.97631565e-02,\n",
              "         7.32112492e-01,  5.62388181e-01,  5.11379404e-02],\n",
              "       [-2.34742908e-01, -4.17094977e-02,  3.40230552e-02,\n",
              "         3.83144789e-02,  3.85805547e-02,  4.42104552e-01,\n",
              "         5.13502905e-01, -2.54557807e-01,  3.35498301e-01,\n",
              "         6.28540774e-04, -3.83539197e-02, -4.73963145e-01,\n",
              "        -2.43561735e-01, -1.09232303e-01,  7.19382162e-02],\n",
              "       [-7.37074216e-01, -1.74576317e-02,  1.00872713e-01,\n",
              "         1.43134268e-01,  1.43772654e-01, -9.71801114e-02,\n",
              "        -1.57651706e-01,  2.19386231e-01, -2.77573011e-01,\n",
              "        -2.62104673e-03, -1.09569004e-01,  3.85066458e-02,\n",
              "        -4.05566817e-01,  1.43382483e-01,  2.16957198e-01],\n",
              "       [ 1.56743069e-01, -4.21591843e-02, -3.39803395e-02,\n",
              "        -5.10016683e-02, -5.11165237e-02,  3.01152077e-01,\n",
              "         1.19459626e-01,  5.30279143e-01, -5.99431178e-01,\n",
              "        -5.10817040e-03,  3.47110376e-02, -4.31793723e-01,\n",
              "         1.25499914e-01, -1.21628706e-01, -5.99004071e-02],\n",
              "       [ 1.68439979e-01,  8.23488057e-02, -1.17215826e-01,\n",
              "        -1.19740617e-01, -1.20782934e-01,  3.18604348e-01,\n",
              "         2.69715707e-01,  7.14024718e-02, -1.01964874e-01,\n",
              "        -4.08146313e-02,  1.94723343e-01,  3.68719198e-01,\n",
              "        -3.73736009e-01,  6.27642119e-01, -1.52578594e-01],\n",
              "       [-9.98154226e-02,  9.19129670e-02,  1.06803519e-01,\n",
              "         1.09416116e-01,  1.10115370e-01,  3.68551881e-01,\n",
              "         3.02275607e-01,  6.97203669e-02, -1.08493243e-01,\n",
              "         4.90420028e-02, -1.53746783e-01,  6.49213048e-01,\n",
              "         2.12056858e-01, -4.35752006e-01,  1.41007715e-01],\n",
              "       [ 4.77700843e-01, -7.57566111e-02,  2.59610490e-01,\n",
              "         3.62672049e-01,  3.63227176e-01,  7.47247202e-03,\n",
              "        -1.55990091e-02,  2.69972157e-02, -1.40780538e-02,\n",
              "         1.83583979e-01, -5.20008486e-01, -6.08914095e-02,\n",
              "        -1.95280562e-01,  2.10457099e-01,  2.09111628e-01],\n",
              "       [ 3.30994306e-02,  9.74017379e-01,  5.46017266e-02,\n",
              "         9.24479709e-02,  9.22208083e-02, -2.55966876e-02,\n",
              "        -3.32121559e-02,  1.97864418e-02,  1.42110712e-02,\n",
              "        -1.88178038e-03,  8.37681118e-02, -1.34025217e-01,\n",
              "        -1.37445495e-02, -6.96234506e-03,  5.08865540e-02],\n",
              "       [ 8.26439455e-03,  1.13380304e-02,  5.58483252e-03,\n",
              "         6.02250901e-03,  5.83947657e-03,  3.09546206e-01,\n",
              "        -3.17295075e-01, -7.26831725e-01, -5.22021745e-01,\n",
              "        -2.49734622e-02,  6.93839731e-03, -3.96976763e-02,\n",
              "         4.90896057e-03,  2.04806111e-03,  1.18109588e-02],\n",
              "       [-1.15408119e-01,  7.31840858e-02, -1.52045976e-01,\n",
              "        -1.81118111e-01, -1.81312251e-01, -2.41396609e-03,\n",
              "        -6.58589075e-03, -2.49406587e-02, -1.79236679e-02,\n",
              "         9.08848770e-01, -1.89598368e-01, -8.34813316e-03,\n",
              "        -2.17188171e-03,  7.32309064e-03, -1.71624630e-01],\n",
              "       [ 1.30799815e-02,  1.44846192e-02,  6.75101381e-03,\n",
              "         9.21097611e-03,  9.45342913e-03, -5.99691555e-01,\n",
              "         6.48425262e-01, -2.55672752e-01, -3.92031893e-01,\n",
              "        -7.81417994e-03, -8.21352929e-03, -6.86727858e-03,\n",
              "         8.62689220e-03,  2.13323951e-03,  1.35060794e-03],\n",
              "       [ 1.13982393e-01, -1.28038784e-01,  9.30962657e-02,\n",
              "         1.59007909e-01,  1.59929485e-01, -5.12931882e-03,\n",
              "         3.20246643e-03,  2.76317513e-03, -2.57915570e-04,\n",
              "         3.52023409e-01,  7.20365720e-01, -4.21149209e-03,\n",
              "         1.67112591e-02,  3.22770231e-03,  5.17578279e-01],\n",
              "       [ 7.63360138e-02,  6.59586432e-02, -3.28336585e-02,\n",
              "        -4.28162419e-01, -4.35095298e-01, -2.89877738e-03,\n",
              "         3.76921744e-03,  1.76398285e-03,  5.03176114e-03,\n",
              "        -9.55295582e-02, -2.78310948e-01, -1.55533915e-02,\n",
              "         3.17113999e-02,  8.34495815e-02,  7.21988900e-01],\n",
              "       [-2.46230973e-02, -7.32219401e-03,  9.25999585e-01,\n",
              "        -2.13944573e-01, -2.26744104e-01,  7.74613930e-04,\n",
              "        -8.94945731e-05,  5.89150321e-05,  3.55788948e-05,\n",
              "         4.80543094e-02,  8.77515325e-02, -3.71763984e-03,\n",
              "         9.79344705e-03,  3.52412928e-02, -1.82531770e-01],\n",
              "       [-3.54727229e-04, -5.62478407e-04, -7.86347116e-03,\n",
              "         7.11616865e-01, -7.02520506e-01, -2.01922159e-04,\n",
              "         7.11657324e-05,  5.06608456e-05, -3.59810374e-05,\n",
              "         2.62249093e-04,  5.91279361e-04,  1.47305108e-04,\n",
              "        -3.93801637e-04, -1.44270911e-03, -1.17142465e-03]])"
            ]
          },
          "metadata": {},
          "execution_count": 26
        }
      ],
      "source": [
        "pca.components_"
      ]
    },
    {
      "cell_type": "markdown",
      "metadata": {
        "id": "ODgMZnlwRH4H"
      },
      "source": [
        "saving the processed_data"
      ]
    },
    {
      "cell_type": "code",
      "execution_count": null,
      "metadata": {
        "id": "3VMfXihoR3Kw"
      },
      "outputs": [],
      "source": [
        "data = pd.concat([pd.DataFrame(nm_X_v8),pd.DataFrame(Y)], axis=1, join='inner')\n",
        "\n",
        "data.to_csv(\"/content/drive/My Drive/processed_data/final.csv\",index=False)\n"
      ]
    },
    {
      "cell_type": "markdown",
      "metadata": {
        "id": "X72UzXLvoICM"
      },
      "source": [
        "making demos"
      ]
    },
    {
      "cell_type": "code",
      "execution_count": null,
      "metadata": {
        "id": "Z4uDtLQFoLjF"
      },
      "outputs": [],
      "source": [
        "data.sample(n=100).to_csv(\"/content/drive/My Drive/processed_data/demo.csv\",index=False)"
      ]
    },
    {
      "cell_type": "code",
      "execution_count": null,
      "metadata": {
        "colab": {
          "base_uri": "https://localhost:8080/",
          "height": 166
        },
        "id": "aOikvnM4rcVp",
        "outputId": "be41e5c8-7437-49b1-eaf9-9bb2c1506ff8"
      },
      "outputs": [
        {
          "ename": "NameError",
          "evalue": "ignored",
          "output_type": "error",
          "traceback": [
            "\u001b[0;31m---------------------------------------------------------------------------\u001b[0m",
            "\u001b[0;31mNameError\u001b[0m                                 Traceback (most recent call last)",
            "\u001b[0;32m<ipython-input-1-304fa4ce4ebd>\u001b[0m in \u001b[0;36m<module>\u001b[0;34m()\u001b[0m\n\u001b[0;32m----> 1\u001b[0;31m \u001b[0mdata\u001b[0m\u001b[0;34m.\u001b[0m\u001b[0mhead\u001b[0m\u001b[0;34m(\u001b[0m\u001b[0;34m)\u001b[0m\u001b[0;34m\u001b[0m\u001b[0;34m\u001b[0m\u001b[0m\n\u001b[0m",
            "\u001b[0;31mNameError\u001b[0m: name 'data' is not defined"
          ]
        }
      ],
      "source": [
        "data.head()"
      ]
    }
  ],
  "metadata": {
    "colab": {
      "provenance": []
    },
    "kernelspec": {
      "display_name": "Python 3",
      "name": "python3"
    },
    "language_info": {
      "name": "python"
    }
  },
  "nbformat": 4,
  "nbformat_minor": 0
}