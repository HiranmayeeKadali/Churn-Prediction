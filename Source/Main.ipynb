{
  "cells": [
    {
      "cell_type": "code",
      "execution_count": null,
      "metadata": {
        "id": "FJN5D5lIWv9q"
      },
      "outputs": [],
      "source": [
        "import pandas as pd\n",
        "import numpy as np\n",
        "from sklearn.model_selection import train_test_split\n",
        "from sklearn.naive_bayes import GaussianNB\n",
        "from sklearn import metrics ,linear_model as lir, svm\n",
        "from sklearn.neighbors import KNeighborsClassifier\n",
        "from sklearn.ensemble import RandomForestClassifier\n",
        "import matplotlib.pyplot as plt\n",
        "import seaborn "
      ]
    },
    {
      "cell_type": "code",
      "execution_count": null,
      "metadata": {
        "colab": {
          "base_uri": "https://localhost:8080/",
          "height": 223
        },
        "id": "DfbpUYrUXDb_",
        "outputId": "bb237d3e-ad7a-4a9e-c48d-bc1957e92cdf"
      },
      "outputs": [
        {
          "output_type": "stream",
          "name": "stdout",
          "text": [
            "Mounted at /content/drive\n"
          ]
        },
        {
          "output_type": "execute_result",
          "data": {
            "text/plain": [
              "          0         1         2         3         4         5         6  \\\n",
              "0  0.628673 -0.062653 -0.182833  0.264305  0.238114  0.053275  0.065127   \n",
              "1  0.708583 -0.451231  0.731810 -0.325409  0.029277  0.157258 -0.413314   \n",
              "2  0.914509  0.012337  1.074347  0.237393 -0.278264  0.190097  0.168211   \n",
              "3 -0.323182  0.114473  0.120561 -0.025698 -0.185904  0.195808  0.614533   \n",
              "4  0.225305  0.239037 -0.357108 -0.140872 -0.498801  0.220262  0.406497   \n",
              "\n",
              "          7         8         9  is_churn  \n",
              "0 -0.032926  0.289713  0.010577         1  \n",
              "1 -0.081948 -0.378832  0.067124         1  \n",
              "2  0.044930  0.093576 -0.102084         1  \n",
              "3 -0.071374 -0.036722  0.938720         1  \n",
              "4 -0.080835 -0.100077  0.968652         1  "
            ],
            "text/html": [
              "\n",
              "  <div id=\"df-3df37d91-8a1e-4bb2-b54d-3af5796c8b2d\">\n",
              "    <div class=\"colab-df-container\">\n",
              "      <div>\n",
              "<style scoped>\n",
              "    .dataframe tbody tr th:only-of-type {\n",
              "        vertical-align: middle;\n",
              "    }\n",
              "\n",
              "    .dataframe tbody tr th {\n",
              "        vertical-align: top;\n",
              "    }\n",
              "\n",
              "    .dataframe thead th {\n",
              "        text-align: right;\n",
              "    }\n",
              "</style>\n",
              "<table border=\"1\" class=\"dataframe\">\n",
              "  <thead>\n",
              "    <tr style=\"text-align: right;\">\n",
              "      <th></th>\n",
              "      <th>0</th>\n",
              "      <th>1</th>\n",
              "      <th>2</th>\n",
              "      <th>3</th>\n",
              "      <th>4</th>\n",
              "      <th>5</th>\n",
              "      <th>6</th>\n",
              "      <th>7</th>\n",
              "      <th>8</th>\n",
              "      <th>9</th>\n",
              "      <th>is_churn</th>\n",
              "    </tr>\n",
              "  </thead>\n",
              "  <tbody>\n",
              "    <tr>\n",
              "      <th>0</th>\n",
              "      <td>0.628673</td>\n",
              "      <td>-0.062653</td>\n",
              "      <td>-0.182833</td>\n",
              "      <td>0.264305</td>\n",
              "      <td>0.238114</td>\n",
              "      <td>0.053275</td>\n",
              "      <td>0.065127</td>\n",
              "      <td>-0.032926</td>\n",
              "      <td>0.289713</td>\n",
              "      <td>0.010577</td>\n",
              "      <td>1</td>\n",
              "    </tr>\n",
              "    <tr>\n",
              "      <th>1</th>\n",
              "      <td>0.708583</td>\n",
              "      <td>-0.451231</td>\n",
              "      <td>0.731810</td>\n",
              "      <td>-0.325409</td>\n",
              "      <td>0.029277</td>\n",
              "      <td>0.157258</td>\n",
              "      <td>-0.413314</td>\n",
              "      <td>-0.081948</td>\n",
              "      <td>-0.378832</td>\n",
              "      <td>0.067124</td>\n",
              "      <td>1</td>\n",
              "    </tr>\n",
              "    <tr>\n",
              "      <th>2</th>\n",
              "      <td>0.914509</td>\n",
              "      <td>0.012337</td>\n",
              "      <td>1.074347</td>\n",
              "      <td>0.237393</td>\n",
              "      <td>-0.278264</td>\n",
              "      <td>0.190097</td>\n",
              "      <td>0.168211</td>\n",
              "      <td>0.044930</td>\n",
              "      <td>0.093576</td>\n",
              "      <td>-0.102084</td>\n",
              "      <td>1</td>\n",
              "    </tr>\n",
              "    <tr>\n",
              "      <th>3</th>\n",
              "      <td>-0.323182</td>\n",
              "      <td>0.114473</td>\n",
              "      <td>0.120561</td>\n",
              "      <td>-0.025698</td>\n",
              "      <td>-0.185904</td>\n",
              "      <td>0.195808</td>\n",
              "      <td>0.614533</td>\n",
              "      <td>-0.071374</td>\n",
              "      <td>-0.036722</td>\n",
              "      <td>0.938720</td>\n",
              "      <td>1</td>\n",
              "    </tr>\n",
              "    <tr>\n",
              "      <th>4</th>\n",
              "      <td>0.225305</td>\n",
              "      <td>0.239037</td>\n",
              "      <td>-0.357108</td>\n",
              "      <td>-0.140872</td>\n",
              "      <td>-0.498801</td>\n",
              "      <td>0.220262</td>\n",
              "      <td>0.406497</td>\n",
              "      <td>-0.080835</td>\n",
              "      <td>-0.100077</td>\n",
              "      <td>0.968652</td>\n",
              "      <td>1</td>\n",
              "    </tr>\n",
              "  </tbody>\n",
              "</table>\n",
              "</div>\n",
              "      <button class=\"colab-df-convert\" onclick=\"convertToInteractive('df-3df37d91-8a1e-4bb2-b54d-3af5796c8b2d')\"\n",
              "              title=\"Convert this dataframe to an interactive table.\"\n",
              "              style=\"display:none;\">\n",
              "        \n",
              "  <svg xmlns=\"http://www.w3.org/2000/svg\" height=\"24px\"viewBox=\"0 0 24 24\"\n",
              "       width=\"24px\">\n",
              "    <path d=\"M0 0h24v24H0V0z\" fill=\"none\"/>\n",
              "    <path d=\"M18.56 5.44l.94 2.06.94-2.06 2.06-.94-2.06-.94-.94-2.06-.94 2.06-2.06.94zm-11 1L8.5 8.5l.94-2.06 2.06-.94-2.06-.94L8.5 2.5l-.94 2.06-2.06.94zm10 10l.94 2.06.94-2.06 2.06-.94-2.06-.94-.94-2.06-.94 2.06-2.06.94z\"/><path d=\"M17.41 7.96l-1.37-1.37c-.4-.4-.92-.59-1.43-.59-.52 0-1.04.2-1.43.59L10.3 9.45l-7.72 7.72c-.78.78-.78 2.05 0 2.83L4 21.41c.39.39.9.59 1.41.59.51 0 1.02-.2 1.41-.59l7.78-7.78 2.81-2.81c.8-.78.8-2.07 0-2.86zM5.41 20L4 18.59l7.72-7.72 1.47 1.35L5.41 20z\"/>\n",
              "  </svg>\n",
              "      </button>\n",
              "      \n",
              "  <style>\n",
              "    .colab-df-container {\n",
              "      display:flex;\n",
              "      flex-wrap:wrap;\n",
              "      gap: 12px;\n",
              "    }\n",
              "\n",
              "    .colab-df-convert {\n",
              "      background-color: #E8F0FE;\n",
              "      border: none;\n",
              "      border-radius: 50%;\n",
              "      cursor: pointer;\n",
              "      display: none;\n",
              "      fill: #1967D2;\n",
              "      height: 32px;\n",
              "      padding: 0 0 0 0;\n",
              "      width: 32px;\n",
              "    }\n",
              "\n",
              "    .colab-df-convert:hover {\n",
              "      background-color: #E2EBFA;\n",
              "      box-shadow: 0px 1px 2px rgba(60, 64, 67, 0.3), 0px 1px 3px 1px rgba(60, 64, 67, 0.15);\n",
              "      fill: #174EA6;\n",
              "    }\n",
              "\n",
              "    [theme=dark] .colab-df-convert {\n",
              "      background-color: #3B4455;\n",
              "      fill: #D2E3FC;\n",
              "    }\n",
              "\n",
              "    [theme=dark] .colab-df-convert:hover {\n",
              "      background-color: #434B5C;\n",
              "      box-shadow: 0px 1px 3px 1px rgba(0, 0, 0, 0.15);\n",
              "      filter: drop-shadow(0px 1px 2px rgba(0, 0, 0, 0.3));\n",
              "      fill: #FFFFFF;\n",
              "    }\n",
              "  </style>\n",
              "\n",
              "      <script>\n",
              "        const buttonEl =\n",
              "          document.querySelector('#df-3df37d91-8a1e-4bb2-b54d-3af5796c8b2d button.colab-df-convert');\n",
              "        buttonEl.style.display =\n",
              "          google.colab.kernel.accessAllowed ? 'block' : 'none';\n",
              "\n",
              "        async function convertToInteractive(key) {\n",
              "          const element = document.querySelector('#df-3df37d91-8a1e-4bb2-b54d-3af5796c8b2d');\n",
              "          const dataTable =\n",
              "            await google.colab.kernel.invokeFunction('convertToInteractive',\n",
              "                                                     [key], {});\n",
              "          if (!dataTable) return;\n",
              "\n",
              "          const docLinkHtml = 'Like what you see? Visit the ' +\n",
              "            '<a target=\"_blank\" href=https://colab.research.google.com/notebooks/data_table.ipynb>data table notebook</a>'\n",
              "            + ' to learn more about interactive tables.';\n",
              "          element.innerHTML = '';\n",
              "          dataTable['output_type'] = 'display_data';\n",
              "          await google.colab.output.renderOutput(dataTable, element);\n",
              "          const docLink = document.createElement('div');\n",
              "          docLink.innerHTML = docLinkHtml;\n",
              "          element.appendChild(docLink);\n",
              "        }\n",
              "      </script>\n",
              "    </div>\n",
              "  </div>\n",
              "  "
            ]
          },
          "metadata": {},
          "execution_count": 2
        }
      ],
      "source": [
        "from google.colab import drive\n",
        "drive.mount('/content/drive')\n",
        "\n",
        "data = pd.read_csv(\"/content/drive/My Drive/processed_data/final.csv\")\n",
        "data.head()"
      ]
    },
    {
      "cell_type": "code",
      "execution_count": null,
      "metadata": {
        "id": "V7x3in2VZrSy"
      },
      "outputs": [],
      "source": [
        "\n",
        "X_train, X_test, y_train, y_test = train_test_split(data.iloc[:,:10],data['is_churn'], test_size=0.3,random_state = 20)\n",
        "\n",
        "list_of_modals_and_accuracy = {}"
      ]
    },
    {
      "cell_type": "code",
      "source": [
        "\n",
        "seaborn.heatmap(data.corr())\n",
        "print(\"Heat map\")"
      ],
      "metadata": {
        "colab": {
          "base_uri": "https://localhost:8080/",
          "height": 287
        },
        "id": "IryjYew8jhRS",
        "outputId": "1ee031dd-217d-4b53-ef4e-7f457d7b8ef3"
      },
      "execution_count": null,
      "outputs": [
        {
          "output_type": "stream",
          "name": "stdout",
          "text": [
            "Heat map\n"
          ]
        },
        {
          "output_type": "display_data",
          "data": {
            "text/plain": [
              "<Figure size 432x288 with 2 Axes>"
            ],
            "image/png": "[encoded data removed]"
          },
          "metadata": {
            "needs_background": "light"
          }
        }
      ]
    },
    {
      "cell_type": "code",
      "execution_count": null,
      "metadata": {
        "colab": {
          "base_uri": "https://localhost:8080/",
          "height": 591
        },
        "id": "wm0kc1umYGys",
        "outputId": "ecffcb39-a8e9-4a55-aada-e3e8d01fee7b"
      },
      "outputs": [
        {
          "output_type": "stream",
          "name": "stdout",
          "text": [
            "\n",
            "confusion_matrix : \n",
            "\n",
            " [[261805   3321]\n",
            " [ 14988  11174]]\n",
            "\n",
            "Accuracy is :  0.9371446815522781\n",
            "\n",
            "Classification Report\n",
            "               precision    recall  f1-score   support\n",
            "\n",
            "           0       0.95      0.99      0.97    265126\n",
            "           1       0.77      0.43      0.55     26162\n",
            "\n",
            "    accuracy                           0.94    291288\n",
            "   macro avg       0.86      0.71      0.76    291288\n",
            "weighted avg       0.93      0.94      0.93    291288\n",
            "\n"
          ]
        },
        {
          "output_type": "display_data",
          "data": {
            "text/plain": [
              "<Figure size 432x288 with 1 Axes>"
            ],
            "image/png": "[encoded data removed]"
          },
          "metadata": {
            "needs_background": "light"
          }
        }
      ],
      "source": [
        "model = lir.LogisticRegression()\n",
        "model.fit(X_train,y_train)\n",
        "y_pred  = model.predict(X_test)\n",
        "\n",
        "results = metrics.confusion_matrix(y_test, y_pred)\n",
        "print(\"\\nconfusion_matrix : \\n\\n\",results)\n",
        "print(\"\\nAccuracy is : \",metrics.accuracy_score(y_test, y_pred))\n",
        "print(\"\\nClassification Report\\n\",metrics.classification_report(y_test, y_pred))\n",
        "\n",
        "\n",
        "list_of_modals_and_accuracy[\"Logistic Regression\"] = metrics.accuracy_score(y_test, y_pred)\n",
        "y_pred_proba = model.predict_proba(X_test)[::,1]\n",
        "fpr1, tpr1, _ = metrics.roc_curve(y_test,  y_pred_proba)\n",
        "auc = metrics.roc_auc_score(y_test, y_pred_proba)\n",
        "\n",
        "plt.plot(fpr1,tpr1,label=\"AUC=\"+str(auc))\n",
        "plt.ylabel('True Positive Rate')\n",
        "plt.xlabel('False Positive Rate')\n",
        "plt.legend(loc=4)\n",
        "plt.show()"
      ]
    },
    {
      "cell_type": "code",
      "execution_count": null,
      "metadata": {
        "id": "IyHn5b1HaiVn",
        "colab": {
          "base_uri": "https://localhost:8080/",
          "height": 591
        },
        "outputId": "4285d401-0165-493c-aec9-f760f3b35844"
      },
      "outputs": [
        {
          "output_type": "stream",
          "name": "stdout",
          "text": [
            "\n",
            "confusion_matrix : \n",
            "\n",
            " [[246393  18733]\n",
            " [ 11120  15042]]\n",
            "\n",
            "Accuracy is :  0.8975138007744913\n",
            "\n",
            "Classification Report\n",
            "               precision    recall  f1-score   support\n",
            "\n",
            "           0       0.96      0.93      0.94    265126\n",
            "           1       0.45      0.57      0.50     26162\n",
            "\n",
            "    accuracy                           0.90    291288\n",
            "   macro avg       0.70      0.75      0.72    291288\n",
            "weighted avg       0.91      0.90      0.90    291288\n",
            "\n"
          ]
        },
        {
          "output_type": "display_data",
          "data": {
            "text/plain": [
              "<Figure size 432x288 with 1 Axes>"
            ],
            "image/png": "[encoded data removed]"
          },
          "metadata": {
            "needs_background": "light"
          }
        }
      ],
      "source": [
        "nv = GaussianNB() \n",
        "nv.fit(X_train,y_train) \n",
        "y_pred = nv.predict(X_test) \n",
        "\n",
        "results = metrics.confusion_matrix(y_test, y_pred)\n",
        "print(\"\\nconfusion_matrix : \\n\\n\",results)\n",
        "print(\"\\nAccuracy is : \",metrics.accuracy_score(y_test, y_pred))\n",
        "print(\"\\nClassification Report\\n\",metrics.classification_report(y_test, y_pred))\n",
        "\n",
        "\n",
        "list_of_modals_and_accuracy[\"Naïve bayes\"] = metrics.accuracy_score(y_test, y_pred)\n",
        "\n",
        "y_pred_proba = nv.predict_proba(X_test)[::,1]\n",
        "fpr2, tpr2, _ = metrics.roc_curve(y_test,  y_pred_proba)\n",
        "auc = metrics.roc_auc_score(y_test, y_pred_proba)\n",
        "\n",
        "plt.plot(fpr2,tpr2,label=\"AUC=\"+str(auc))\n",
        "plt.ylabel('True Positive Rate')\n",
        "plt.xlabel('False Positive Rate')\n",
        "plt.legend(loc=4)\n",
        "plt.show()"
      ]
    },
    {
      "cell_type": "code",
      "execution_count": null,
      "metadata": {
        "id": "C8O0FTZibQEq"
      },
      "outputs": [],
      "source": [
        "modal = svm.SVC(kernel = \"linear\",probability=True)\n",
        "modal.fit(X_train, y_train)\n",
        "y_pred = modal.predict(X_test)\n",
        "\n",
        "results = metrics.confusion_matrix(y_test, y_pred)\n",
        "print(\"\\nconfusion_matrix : \\n\\n\",results)\n",
        "print(\"\\nAccuracy is : \",metrics.accuracy_score(y_test, y_pred))\n",
        "print(\"\\nClassification Report\\n\",metrics.classification_report(y_test, y_pred))\n",
        "\n",
        "list_of_modals_and_accuracy[\"Support Vector machine\"] = metrics.accuracy_score(y_test, y_pred)\n",
        "\n",
        "y_pred_proba = modal.predict_proba(X_test)[:,1]\n",
        "fpr3, tpr3, _ = metrics.roc_curve(y_test,  y_pred_proba)\n",
        "auc = metrics.roc_auc_score(y_test, y_pred_proba)\n",
        "\n",
        "plt.plot(fpr3,tpr3,label=\"AUC=\"+str(auc))\n",
        "plt.ylabel('True Positive Rate')\n",
        "plt.xlabel('False Positive Rate')\n",
        "plt.legend(loc=4)\n",
        "plt.show()"
      ]
    },
    {
      "cell_type": "code",
      "source": [
        "knn = KNeighborsClassifier(n_neighbors=3)\n",
        "knn.fit(X_train, y_train)\n",
        "y_pred = knn.predict(X_test)\n",
        "\n",
        "results = metrics.confusion_matrix(y_test, y_pred)\n",
        "print(\"\\nconfusion_matrix : \\n\\n\",results)\n",
        "print(\"\\nAccuracy is : \",metrics.accuracy_score(y_test, y_pred))\n",
        "print(\"\\nClassification Report\\n\",metrics.classification_report(y_test, y_pred))\n",
        "\n",
        "list_of_modals_and_accuracy[\"KNN\"] = metrics.accuracy_score(y_test, y_pred)\n",
        "\n",
        "\n",
        "y_pred_proba = knn.predict_proba(X_test)[:,1]\n",
        "fpr3, tpr3, _ = metrics.roc_curve(y_test,  y_pred_proba)\n",
        "auc = metrics.roc_auc_score(y_test, y_pred_proba)\n",
        "\n",
        "\n",
        "\n",
        "plt.plot(fpr3,tpr3,label=\"AUC=\"+str(auc))\n",
        "plt.ylabel('True Positive Rate')\n",
        "plt.xlabel('False Positive Rate')\n",
        "plt.legend(loc=4)\n",
        "plt.show()"
      ],
      "metadata": {
        "id": "MW8ouJ7Kea5W",
        "colab": {
          "base_uri": "https://localhost:8080/",
          "height": 591
        },
        "outputId": "a44f4d9e-1f17-491c-ecff-0227ec662c46"
      },
      "execution_count": null,
      "outputs": [
        {
          "output_type": "stream",
          "name": "stdout",
          "text": [
            "\n",
            "confusion_matrix : \n",
            "\n",
            " [[261496   3630]\n",
            " [  7616  18546]]\n",
            "\n",
            "Accuracy is :  0.9613921617093736\n",
            "\n",
            "Classification Report\n",
            "               precision    recall  f1-score   support\n",
            "\n",
            "           0       0.97      0.99      0.98    265126\n",
            "           1       0.84      0.71      0.77     26162\n",
            "\n",
            "    accuracy                           0.96    291288\n",
            "   macro avg       0.90      0.85      0.87    291288\n",
            "weighted avg       0.96      0.96      0.96    291288\n",
            "\n"
          ]
        },
        {
          "output_type": "display_data",
          "data": {
            "text/plain": [
              "<Figure size 432x288 with 1 Axes>"
            ],
            "image/png": "[encoded data removed]"
          },
          "metadata": {
            "needs_background": "light"
          }
        }
      ]
    },
    {
      "cell_type": "code",
      "execution_count": null,
      "metadata": {
        "id": "EF_Gmcu0b2Tw",
        "colab": {
          "base_uri": "https://localhost:8080/",
          "height": 609
        },
        "outputId": "6e55ca8c-597c-4ab6-95c4-4268a16bc585"
      },
      "outputs": [
        {
          "output_type": "stream",
          "name": "stdout",
          "text": [
            "[0 0 0 ... 0 0 0]\n",
            "\n",
            "confusion_matrix : \n",
            "\n",
            " [[262605   2521]\n",
            " [  5697  20465]]\n",
            "\n",
            "Accuracy is :  0.9717873719480377\n",
            "\n",
            "Classification Report\n",
            "               precision    recall  f1-score   support\n",
            "\n",
            "           0       0.98      0.99      0.98    265126\n",
            "           1       0.89      0.78      0.83     26162\n",
            "\n",
            "    accuracy                           0.97    291288\n",
            "   macro avg       0.93      0.89      0.91    291288\n",
            "weighted avg       0.97      0.97      0.97    291288\n",
            "\n"
          ]
        },
        {
          "output_type": "display_data",
          "data": {
            "text/plain": [
              "<Figure size 432x288 with 1 Axes>"
            ],
            "image/png": "[encoded data removed]"
          },
          "metadata": {
            "needs_background": "light"
          }
        }
      ],
      "source": [
        "model = RandomForestClassifier(n_estimators = 1000, random_state = 42)\n",
        "model.fit(X_train, y_train)\n",
        "y_pred = model.predict(X_test)\n",
        "print(y_pred)\n",
        "y_pred = np.where(y_pred > 0.5, 1, 0)\n",
        "\n",
        "results = metrics.confusion_matrix(y_test, y_pred)\n",
        "print(\"\\nconfusion_matrix : \\n\\n\",results)\n",
        "print(\"\\nAccuracy is : \",metrics.accuracy_score(y_test, y_pred))\n",
        "print(\"\\nClassification Report\\n\",metrics.classification_report(y_test, y_pred))\n",
        "\n",
        "list_of_modals_and_accuracy[\"Random forest\"] = metrics.accuracy_score(y_test, y_pred)\n",
        "\n",
        "\n",
        "y_pred_proba = model.predict_proba(X_test)[:,1]\n",
        "fpr4, tpr4, _ = metrics.roc_curve(y_test,  y_pred_proba)\n",
        "auc = metrics.roc_auc_score(y_test, y_pred_proba)\n",
        "\n",
        "plt.plot(fpr4,tpr4,label=\"AUC=\"+str(auc))\n",
        "plt.ylabel('True Positive Rate')\n",
        "plt.xlabel('False Positive Rate')\n",
        "plt.legend(loc=4)\n",
        "plt.show()"
      ]
    },
    {
      "cell_type": "code",
      "execution_count": null,
      "metadata": {
        "colab": {
          "base_uri": "https://localhost:8080/"
        },
        "id": "WIBGQsja-mOB",
        "outputId": "fe67a470-fb0b-41ba-f796-a9ebbfded188"
      },
      "outputs": [
        {
          "output_type": "stream",
          "name": "stdout",
          "text": [
            "The Modal with Highest Accuracy : Random forest With Accuracy of 0.9717873719480377\n"
          ]
        }
      ],
      "source": [
        "print(\"The Modal with Highest Accuracy :\",max(list_of_modals_and_accuracy,key = lambda a:list_of_modals_and_accuracy[a]),\"With Accuracy of\",list_of_modals_and_accuracy[max(list_of_modals_and_accuracy,key = lambda a:list_of_modals_and_accuracy[a])])"
      ]
    },
    {
      "cell_type": "code",
      "source": [
        "df = pd.DataFrame(list_of_modals_and_accuracy,index=[i for i in range(len(list_of_modals_and_accuracy))])\n",
        "df.plot.pie(subplots=True)\n"
      ],
      "metadata": {
        "colab": {
          "base_uri": "https://localhost:8080/",
          "height": 214
        },
        "id": "pMC-wbl0Ry1i",
        "outputId": "e68731ad-8dfc-4ae3-cc94-3bee652ffbed"
      },
      "execution_count": null,
      "outputs": [
        {
          "output_type": "execute_result",
          "data": {
            "text/plain": [
              "array([<matplotlib.axes._subplots.AxesSubplot object at 0x7f9e50defa50>,\n",
              "       <matplotlib.axes._subplots.AxesSubplot object at 0x7f9e50daa150>,\n",
              "       <matplotlib.axes._subplots.AxesSubplot object at 0x7f9e50def5d0>,\n",
              "       <matplotlib.axes._subplots.AxesSubplot object at 0x7f9e50d1c5d0>],\n",
              "      dtype=object)"
            ]
          },
          "metadata": {},
          "execution_count": 11
        },
        {
          "output_type": "display_data",
          "data": {
            "text/plain": [
              "<Figure size 432x288 with 4 Axes>"
            ],
            "image/png": "[encoded data removed]"
          },
          "metadata": {}
        }
      ]
    },
    {
      "cell_type": "code",
      "source": [
        "df.plot()"
      ],
      "metadata": {
        "id": "G-4Z6TNlTKg4",
        "colab": {
          "base_uri": "https://localhost:8080/",
          "height": 282
        },
        "outputId": "9414a53d-8199-447c-d4e4-b17d26a7e301"
      },
      "execution_count": null,
      "outputs": [
        {
          "output_type": "execute_result",
          "data": {
            "text/plain": [
              "<matplotlib.axes._subplots.AxesSubplot at 0x7f9e50def190>"
            ]
          },
          "metadata": {},
          "execution_count": 12
        },
        {
          "output_type": "display_data",
          "data": {
            "text/plain": [
              "<Figure size 432x288 with 1 Axes>"
            ],
            "image/png": "[encoded data removed]"
          },
          "metadata": {
            "needs_background": "light"
          }
        }
      ]
    },
    {
      "cell_type": "code",
      "source": [
        "#seaborn.boxplot(data = data)"
      ],
      "metadata": {
        "id": "z4fgv3uCP-E3"
      },
      "execution_count": null,
      "outputs": []
    },
    {
      "cell_type": "code",
      "execution_count": null,
      "metadata": {
        "colab": {
          "base_uri": "https://localhost:8080/",
          "height": 279
        },
        "id": "fW1I4UQTSw7g",
        "outputId": "0e9c6524-f5fe-41d1-993e-67057753c8d4"
      },
      "outputs": [
        {
          "output_type": "display_data",
          "data": {
            "text/plain": [
              "<Figure size 432x288 with 1 Axes>"
            ],
            "image/png": "[encoded data removed]"
          },
          "metadata": {
            "needs_background": "light"
          }
        }
      ],
      "source": [
        "plt.plot(fpr1,tpr1,label=\"Logistic Regression\")\n",
        "plt.plot(fpr2,tpr2,label=\"Naïve bayes\")\n",
        "plt.plot(fpr3,tpr3,label=\"KNN\")\n",
        "plt.plot(fpr4,tpr4,label=\"Random forest\")\n",
        "\n",
        "plt.ylabel('True Positive Rate')\n",
        "plt.xlabel('False Positive Rate')\n",
        "plt.legend(loc=4)\n",
        "plt.show()"
      ]
    }
  ],
  "metadata": {
    "colab": {
      "provenance": []
    },
    "kernelspec": {
      "display_name": "Python 3",
      "name": "python3"
    },
    "language_info": {
      "name": "python"
    }
  },
  "nbformat": 4,
  "nbformat_minor": 0
}